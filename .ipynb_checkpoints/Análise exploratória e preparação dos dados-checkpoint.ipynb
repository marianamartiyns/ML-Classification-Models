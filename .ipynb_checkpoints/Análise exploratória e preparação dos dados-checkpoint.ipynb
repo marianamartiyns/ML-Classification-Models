{
 "cells": [
  {
   "cell_type": "markdown",
   "id": "d8127ae1-bdbc-4128-984e-acf097add040",
   "metadata": {},
   "source": [
    "------\n",
    "# Projeto Final - Aprendizagem de Máquina\n",
    "\n",
    "- Felipe Siqueira e Mariana Martins\n",
    "-------"
   ]
  },
  {
   "cell_type": "markdown",
   "id": "d2647796-bfde-403a-b589-6d924c4ba3e1",
   "metadata": {},
   "source": [
    "## Dataset\n",
    "\n",
    "[Link para o dataset](https://www.pns.icict.fiocruz.br/painel-de-indicadores-mobile-desktop/)\n",
    "\n",
    "Módulos disponiveis no dataset:\n",
    "\n",
    "- Doenças Crônicas (Q-2019) \n",
    "- **Estilo de Vida/Alimentação (P-2019)**\n",
    "- **Estilo de Vida/Prática de Atividade Física (P-2019)**\n",
    "- **Antropometria (W-2019)**\n",
    "- **Utilização de Serviços de Saúde (J-2019)**\n",
    "- **Percepção do Estado de Saúde (N-2019)**\n",
    "- **Cobertura de Plano de Saúde (I-2019)**\n",
    "- **Estilo de Vida/Consumo de Álcool (P-2019)** <br>\n",
    "- **Acidentes (O-2019)** <br>\n",
    "- **Violências (V-2019)** <br>\n",
    "- Estilo de vida / Consumo de álcool (P-2019) <br>\n",
    "- Estilo de vida / Tabagismo (P-2019) <br>\n",
    "- Saúde Bucal (U-2019) <br>\n",
    "- Saúde da mulher (R-2019) <br>\n",
    "- Saúde dos idosos (K-2019) <br>\n",
    "- Deficiências (G-2019) <br>\n",
    "- Saúde da mulher / pré-natal (S-2019) <br>\n",
    "- Saúde da mulher / assistência ao parto (S-2019) <br>"
   ]
  },
  {
   "cell_type": "markdown",
   "id": "56a0edd9-6859-4b1b-85ee-3ffc236398a2",
   "metadata": {},
   "source": [
    "## Conhecendo o Dataset"
   ]
  },
  {
   "cell_type": "code",
   "execution_count": 46,
   "id": "3d0c4e64-a82e-4a1e-98ac-523361762ffb",
   "metadata": {},
   "outputs": [],
   "source": [
    "import pandas as pd\n",
    "import numpy as np"
   ]
  },
  {
   "cell_type": "code",
   "execution_count": 47,
   "id": "194aad55-e2cc-45f2-a8d0-4d13ef09a5e9",
   "metadata": {},
   "outputs": [
    {
     "name": "stdout",
     "output_type": "stream",
     "text": [
      "Index(['V0001', 'V0024', 'UPA_PNS', 'V0006_PNS', 'V0015', 'V0020', 'V0022',\n",
      "       'V0026', 'V0031', 'V0025A',\n",
      "       ...\n",
      "       'VDE002', 'VDE014', 'VDF002', 'VDF003', 'VDF004', 'VDL001', 'VDM001',\n",
      "       'VDP001', 'VDR001', 'VDDATA'],\n",
      "      dtype='object', length=1087)\n"
     ]
    }
   ],
   "source": [
    "# Carregando o dataset \n",
    "df = pd.read_csv('pns2019.csv')\n",
    "\n",
    "# Exibir todas as colunas do dataset\n",
    "print(df.columns)"
   ]
  },
  {
   "cell_type": "code",
   "execution_count": 48,
   "id": "54d187c8-43d5-4db7-ad44-c1f36cc2418d",
   "metadata": {},
   "outputs": [
    {
     "name": "stdout",
     "output_type": "stream",
     "text": [
      "   V0001    V0024    UPA_PNS  V0006_PNS  V0015  V0020  V0022  V0026  V0031  \\\n",
      "0     11  1110011  110000016          1      1   2019    6.0      1      1   \n",
      "1     11  1110011  110000016          1      1   2019    6.0      1      1   \n",
      "2     11  1110011  110000016          1      1   2019    6.0      1      1   \n",
      "3     11  1110011  110000016          1      1   2019    6.0      1      1   \n",
      "4     11  1110011  110000016          1      1   2019    6.0      1      1   \n",
      "\n",
      "   V0025A  ...  VDE002  VDE014  VDF002  VDF003  VDF004  VDL001  VDM001  \\\n",
      "0     1.0  ...     1.0     6.0  2098.0   350.0     2.0     NaN     NaN   \n",
      "1     0.0  ...     NaN     NaN  2098.0   350.0     2.0     NaN     NaN   \n",
      "2     0.0  ...     1.0     4.0  2098.0   350.0     2.0     NaN     NaN   \n",
      "3     9.0  ...     NaN     NaN  2098.0   350.0     2.0     NaN     NaN   \n",
      "4     9.0  ...     NaN     NaN  2098.0   350.0     2.0     NaN     NaN   \n",
      "\n",
      "   VDP001  VDR001    VDDATA  \n",
      "0     NaN     NaN  20210825  \n",
      "1     NaN     NaN  20210825  \n",
      "2     NaN     NaN  20210825  \n",
      "3     NaN     NaN  20210825  \n",
      "4     NaN     NaN  20210825  \n",
      "\n",
      "[5 rows x 1087 columns]\n"
     ]
    }
   ],
   "source": [
    "# Exibir as primeiras 5 linhas do dataset\n",
    "print(df.head())"
   ]
  },
  {
   "cell_type": "code",
   "execution_count": 49,
   "id": "9c124404-dfc2-400c-ba3f-521251b29a3a",
   "metadata": {},
   "outputs": [
    {
     "name": "stdout",
     "output_type": "stream",
     "text": [
      "<class 'pandas.core.frame.DataFrame'>\n",
      "RangeIndex: 293726 entries, 0 to 293725\n",
      "Columns: 1087 entries, V0001 to VDDATA\n",
      "dtypes: float64(1078), int64(9)\n",
      "memory usage: 2.4 GB\n"
     ]
    }
   ],
   "source": [
    "# Exibir informações gerais sobre o dataset\n",
    "df.info()"
   ]
  },
  {
   "cell_type": "code",
   "execution_count": 50,
   "id": "7fd8c2fa-71d4-4733-a6ab-775742ae3e82",
   "metadata": {},
   "outputs": [
    {
     "name": "stdout",
     "output_type": "stream",
     "text": [
      "['V0001', 'V0024', 'UPA_PNS', 'V0006_PNS', 'V0015', 'V0020', 'V0022', 'V0026', 'V0031', 'V0025A', 'V0025B', 'A001', 'A002010', 'A003010', 'A004010', 'A01001', 'A011', 'A005010', 'A005012', 'A00601', 'A009010', 'A01401', 'A01402', 'A01403', 'A01501', 'A016010', 'A018011', 'A018012', 'A018013', 'A018014', 'A018015', 'A018016', 'A018017', 'A018018', 'A018019', 'A018020', 'A018021', 'A018022', 'A018023', 'A018024', 'A018025', 'A018026', 'A018027', 'A018028', 'A01901', 'A02101', 'A02102', 'A02201', 'A02305', 'A02306', 'A02307', 'A02308', 'A02401', 'A02402', 'B001', 'B002', 'B003', 'B004', 'C001', 'C00301', 'C004', 'C006', 'C00701', 'C00702', 'C00703', 'C008', 'C009', 'C01001', 'C010010', 'C013', 'C014', 'C015', 'C016', 'C017', 'C018', 'C01801', 'C011', 'C012', 'D001', 'D00201', 'D00202', 'D00301', 'D00501', 'D006', 'D00601', 'D007', 'D008', 'D00901', 'D010', 'D01101', 'D01201', 'D01301', 'D01302', 'D01303', 'D014', 'D015', 'E001', 'E002', 'E003', 'E004', 'E005', 'E006011', 'E008', 'E010010', 'E010011', 'E010012', 'E010013', 'E011', 'E01201', 'E01401', 'E014011', 'E01402', 'E01403', 'E01501', 'E01601', 'E01602', 'E01603', 'E01604', 'E01605', 'E017', 'E01801', 'E01802', 'E01803', 'E01804', 'E01805', 'E019', 'E022', 'E023011', 'E024011', 'E02402', 'E024021', 'E025', 'E02501', 'E02502', 'E02503', 'E026', 'E02601', 'E02801', 'E02802', 'E02803', 'E02804', 'E02805', 'E02806', 'E030', 'E03101', 'E03102', 'E03103', 'E03104', 'E03105', 'E03106', 'E03107', 'E03108', 'E032', 'E033', 'E027', 'F001011', 'F001021', 'F007011', 'F007021', 'F008011', 'F008021', 'VDF001', 'VDF00102', 'F016', 'G033', 'G034', 'G035', 'G036', 'G038', 'G039', 'G040', 'G041', 'G042', 'G044', 'G046', 'G047', 'G048', 'G049', 'G050', 'G051', 'G052', 'G053', 'G054', 'G055', 'G057', 'G058', 'G05801', 'G059', 'G060', 'G061', 'G062', 'G063', 'G064', 'G065', 'G066', 'G067', 'G068', 'G070', 'G071', 'G072', 'G073', 'G074', 'G075', 'G076', 'G077', 'G079', 'G080', 'G081', 'G082', 'G083', 'G084', 'G085', 'G086', 'G032', 'I00101', 'I00102', 'I001021', 'I00103', 'I001031', 'I005', 'I006', 'I004', 'I00401', 'I00402', 'I00403', 'I00404', 'I010010', 'I012', 'J001', 'J00101', 'J002', 'J003', 'J00402', 'J00404', 'J005', 'J006', 'J007', 'J00801', 'J009', 'J01002', 'J01101', 'J012', 'J01301', 'J014', 'J01502', 'J01602', 'J01701', 'J01802', 'J019', 'J02002', 'J021', 'J022010', 'J023', 'J024', 'J025', 'J026', 'J02702', 'J02901', 'J03001', 'J03102', 'J032', 'J03301', 'J034', 'J035', 'J03602', 'J037', 'J038', 'J039', 'J04001', 'J04002', 'J041', 'J042', 'J043', 'J044', 'J046', 'J047', 'J048', 'J049', 'J051', 'J052', 'J05301', 'J05402', 'J05403', 'J05404', 'J05405', 'J05406', 'J05407', 'J05408', 'J05409', 'J054010', 'J056', 'J057', 'J060', 'K001', 'K004', 'K007', 'K010', 'K013', 'K016', 'K019', 'K01901', 'K02001', 'K02101', 'K02102', 'K022', 'K025', 'K028', 'K031', 'K034', 'K03401', 'K03501', 'K03601', 'K03602', 'K04301', 'K04302', 'K04401', 'K045', 'K046', 'K047', 'K048', 'K050', 'K051', 'K052', 'K05302', 'K05401', 'K05402', 'k055', 'K05601', 'K05602', 'K062', 'L01701', 'L01702', 'L01703', 'L01704', 'L01705', 'L01706', 'L01707', 'L01708', 'L01709', 'L01710', 'L01711', 'L01712', 'L01713', 'L01714', 'L01715', 'L01716', 'L018', 'L019', 'L021', 'L022', 'L023', 'L024', 'L025', 'L026', 'L027', 'L028', 'L029', 'L030', 'L031', 'L032', 'L033', 'L034', 'L035', 'L036', 'L037', 'L038', 'L039', 'L040', 'L042', 'M001', 'M002', 'M00203', 'M00302', 'M00303', 'M00401', 'M00402', 'M005010', 'M005011', 'M00601', 'M007', 'M008', 'M009', 'M01001', 'M011011', 'M011021', 'M011031', 'M011041', 'M011051', 'M011061', 'M011071', 'M01401', 'M01501', 'M01601', 'M01701', 'M01801', 'M01901', 'N001', 'N00101', 'N004', 'N005', 'N006', 'N00701', 'N008', 'N010', 'N011', 'N012', 'N013', 'N014', 'N015', 'N016', 'N017', 'N018', 'O00101', 'O00401', 'O00402', 'O00501', 'O00201', 'O00701', 'O00801', 'O00802', 'O00803', 'O009', 'O00901', 'O010', 'O01102', 'O01401', 'O01501', 'O01602', 'O01702', 'O019', 'O02001', 'O021', 'O02101', 'O02201', 'O023', 'O02401', 'P00102', 'P00103', 'P00104', 'P00201', 'P00402', 'P00403', 'P00404', 'P00405', 'P005', 'P00601', 'P00602', 'P00603', 'P00604', 'P00605', 'P00607', 'P00608', 'P00609', 'P00610', 'P00611', 'P00612', 'P00613', 'P00614', 'P00615', 'P00616', 'P00617', 'P00618', 'P00619', 'P00620', 'P00621', 'P00622', 'P00623', 'P006', 'P00901', 'P01001', 'P01101', 'P013', 'P015', 'P02001', 'P02101', 'P01601', 'P018', 'P019', 'P02002', 'P02102', 'P023', 'P02401', 'P02501', 'P02602', 'P02601', 'P027', 'P02801', 'P029', 'P03201', 'P03202', 'P03001', 'P03301', 'P03302', 'P03303', 'P034', 'P035', 'P03701', 'P03702', 'P036', 'P038', 'P039', 'P03904', 'P03905', 'P03906', 'P040', 'P04001', 'P04101', 'P04102', 'P042', 'P04301', 'P04302', 'P044', 'P04401', 'P04405', 'P04406', 'P04501', 'P04502', 'P046', 'P04701', 'P04801', 'P04902', 'P050', 'P051', 'P052', 'P053', 'P05401', 'P05402', 'P05403', 'P05404', 'P05405', 'P05406', 'P05407', 'P05408', 'P05409', 'P05410', 'P05411', 'P05412', 'P05413', 'P05414', 'P05415', 'P05416', 'P05417', 'P05418', 'P05419', 'P05421', 'P05422', 'P055', 'P056', 'P05601', 'P05602', 'P05603', 'P05604', 'P05605', 'P057', 'P058', 'P05801', 'P05802', 'P05901', 'P05902', 'P05903', 'P05904', 'P05905', 'P05906', 'P060', 'P06101', 'P06102', 'P06103', 'P06104', 'P06105', 'P06106', 'P06302', 'P067', 'P06701', 'P068', 'P069', 'P06901', 'P07004', 'P07005', 'P07006', 'P07007', 'P07101', 'P07201', 'Q00101', 'Q00201', 'Q00202', 'Q003', 'Q00401', 'Q00502', 'Q00503', 'Q00601', 'Q00602', 'Q00801', 'Q009', 'Q010', 'Q01101', 'Q01202', 'Q014', 'Q015', 'Q016', 'Q017', 'Q018010', 'Q018011', 'Q018012', 'Q018013', 'Q018014', 'Q018015', 'Q018016', 'Q018017', 'Q01910', 'Q019101', 'Q01911', 'Q019111', 'Q01912', 'Q019121', 'Q01913', 'Q019131', 'Q022', 'Q02301', 'Q026', 'Q02701', 'Q028', 'Q02901', 'Q03001', 'Q03002', 'Q031', 'Q03201', 'Q03302', 'Q03303', 'Q03403', 'Q03404', 'Q03601', 'Q03701', 'Q03801', 'Q03802', 'Q03803', 'Q03804', 'Q03805', 'Q03806', 'Q03807', 'Q03901', 'Q04002', 'Q042', 'Q043', 'Q044', 'Q045', 'Q046011', 'Q046012', 'Q046013', 'Q046014', 'Q046015', 'Q046016', 'Q046017', 'Q046018', 'Q046019', 'Q046020', 'Q046021', 'Q04707', 'Q047071', 'Q04708', 'Q047081', 'Q04709', 'Q047091', 'Q04710', 'Q047101', 'Q04711', 'Q047111', 'Q050', 'Q05101', 'Q05301', 'Q05401', 'Q055011', 'Q055012', 'Q055013', 'Q055014', 'Q055015', 'Q055016', 'Q056', 'Q05701', 'Q058', 'Q05901', 'Q060', 'Q061', 'Q06207', 'Q06208', 'Q06209', 'Q06210', 'Q06211', 'Q06212', 'Q06306', 'Q06307', 'Q06308', 'Q06309', 'Q06310', 'Q06311', 'Q064', 'Q06506', 'Q06507', 'Q06508', 'Q06509', 'Q06601', 'Q067', 'Q068', 'Q070', 'Q07208', 'Q07209', 'Q07210', 'Q07211', 'Q07212', 'Q07213', 'Q073', 'Q074', 'Q075', 'Q076', 'Q07601', 'Q07704', 'Q07705', 'Q07706', 'Q07707', 'Q07708', 'Q07709', 'Q07710', 'Q07711', 'Q078', 'Q079', 'Q080', 'Q08107', 'Q08108', 'Q08109', 'Q08110', 'Q08111', 'Q082', 'Q083', 'Q084', 'Q085', 'Q08607', 'Q08608', 'Q08609', 'Q08610', 'Q08611', 'Q087', 'Q088', 'Q08901', 'Q09007', 'Q09008', 'Q09009', 'Q09010', 'Q09011', 'Q091', 'Q092', 'Q09201', 'Q09202', 'Q09301', 'Q094', 'Q09502', 'Q09605', 'Q09606', 'Q09607', 'Q098', 'Q100', 'Q10101', 'Q10202', 'Q104', 'Q105', 'Q106', 'Q10701', 'Q109', 'Q11006', 'Q11007', 'Q11008', 'Q11009', 'Q11010', 'Q111', 'Q11201', 'Q11405', 'Q11406', 'Q11407', 'Q11408', 'Q115', 'Q11604', 'Q11605', 'Q11606', 'Q11607', 'Q11701', 'Q11806', 'Q11807', 'Q11808', 'Q11809', 'Q119', 'Q120', 'Q12102', 'Q12103', 'Q12104', 'Q12105', 'Q12106', 'Q12107', 'Q12108', 'Q12109', 'Q121010', 'Q121011', 'Q121012', 'Q121013', 'Q121014', 'Q121015', 'Q121016', 'Q12201', 'Q12301', 'Q124', 'Q125', 'Q12501', 'Q12607', 'Q12608', 'Q12609', 'Q12610', 'Q127', 'Q128', 'Q132', 'Q133', 'Q134', 'R00101', 'R002010', 'R004', 'R005', 'R00601', 'R007', 'R008', 'R009010', 'R010', 'R011', 'R012', 'R013', 'R014', 'R015', 'R01701', 'R019', 'R020', 'R02101', 'R022', 'R023', 'R02402', 'R025', 'R026', 'R027', 'R028', 'R029', 'R030', 'R031', 'R032', 'R033', 'R034', 'R035', 'R03601', 'R03602', 'R03603', 'R03604', 'R03605', 'R03606', 'R03607', 'R03608', 'R03609', 'R03610', 'R03611', 'R037', 'R038', 'S065', 'S066', 'S06701', 'S06702', 'S06703', 'S068', 'S06901', 'S06902', 'S070', 'S071', 'S072', 'S073', 'S074', 'S075', 'S076', 'S077', 'S07901', 'S07902', 'S07903', 'S07904', 'S07905', 'S080', 'S081', 'S082', 'S083', 'S084', 'S085', 'S086', 'S087', 'S088', 'S089', 'S090', 'S091', 'S092', 'S095', 'S096', 'S097', 'S098', 'S099', 'S09901', 'S109', 'S110', 'S11001', 'S111', 'S112', 'S113', 'S114', 'S115', 'S116', 'S117', 'S118', 'S11801', 'S119', 'S120', 'S121', 'S122', 'S123', 'S124', 'S125', 'S126', 'S127', 'S128', 'S129', 'S130', 'S131', 'S132', 'S133', 'S134', 'S135', 'S136', 'S137', 'S138', 'S139', 'U00204', 'U00205', 'U00206', 'U00207', 'U00208', 'U00101', 'U00401', 'U005', 'U006', 'U00902', 'U01002', 'U014', 'U02001', 'U02101', 'U02302', 'U02303', 'U02402', 'U02403', 'U02501', 'Z001', 'Z00101', 'Z00102', 'Z002', 'Z003', 'Z004', 'Z005', 'Z006', 'Z007', 'Z008', 'Z009', 'Z010', 'Z011', 'Z012', 'Z013', 'Z01401', 'Z01402', 'V001', 'V00101', 'V00201', 'V00202', 'V00203', 'V00204', 'V00205', 'V003', 'V006', 'V007', 'V01401', 'V01402', 'V01403', 'V01404', 'V01405', 'V015', 'V018', 'V019', 'V02701', 'V02702', 'V02801', 'V02802', 'V029', 'V032', 'V033', 'V034', 'V03501', 'V03502', 'V03503', 'V036', 'V037', 'V038', 'V039', 'T001', 'T002', 'T003', 'T004', 'T005', 'T00601', 'T00602', 'T00603', 'T00604', 'T00605', 'T00606', 'Y001', 'Y00101', 'Y002', 'Y003', 'Y004', 'Y005', 'Y006', 'Y007', 'H001', 'H002', 'H003', 'H004', 'H005', 'H006', 'H007', 'H008', 'H009', 'H010', 'H011', 'H012', 'H013', 'H014', 'H015', 'H016', 'H017', 'H018', 'H019', 'H020', 'H021', 'H022', 'H023', 'H024', 'H025', 'H026', 'H027', 'H028', 'H029', 'H030', 'W001', 'W00101', 'W00102', 'W00103', 'W00201', 'W00202', 'W00203', 'V0028', 'V0029', 'V0030', 'V00281', 'V00291', 'V00301', 'V00282', 'V00292', 'V00302', 'V00283', 'V00293', 'V00303', 'VDC001', 'VDC003', 'VDD004A', 'VDE001', 'VDE002', 'VDE014', 'VDF002', 'VDF003', 'VDF004', 'VDL001', 'VDM001', 'VDP001', 'VDR001', 'VDDATA']\n"
     ]
    }
   ],
   "source": [
    "# Visualizando todas as colunas do dataset\n",
    "print(df.columns.tolist())"
   ]
  },
  {
   "cell_type": "markdown",
   "id": "395ed8e4-b01a-49be-be97-32be1c8b5b51",
   "metadata": {},
   "source": [
    "## Tratamento de Dados Básico\r\n",
    "\r\n",
    "A partir do [Painel de Indicadores de Saúde – Pesquisa Nacional de Saúde](https://www.pns.icict.fiocruz.br/painel-de-indicadores-mobile-desktop/), conseguimos mapear e identificar o significado de cada coluna nos dados. Com isso, iremos renomeá-las para melhorar a compreensão dos dado.\r\n"
   ]
  },
  {
   "cell_type": "code",
   "execution_count": 51,
   "id": "29c24eb7-7194-492c-ab2b-9d55a6a6b178",
   "metadata": {},
   "outputs": [
    {
     "name": "stdout",
     "output_type": "stream",
     "text": [
      "count    90846.000000\n",
      "mean         1.035973\n",
      "std          1.580665\n",
      "min          0.005817\n",
      "25%          0.275786\n",
      "50%          0.563584\n",
      "75%          1.168218\n",
      "max         63.297747\n",
      "Name: peso_morador_selec, dtype: float64\n"
     ]
    }
   ],
   "source": [
    "# Definição do peso e filtragem dos respondentes do questionário\n",
    "\n",
    "# 1. Selecionando registros válidos para o módulo P\n",
    "df_filtered = df[df['V0025A'] == 1].copy()  # Cria uma cópia explícita do DataFrame\n",
    "\n",
    "# 2. Calculando peso amostral usando .loc para evitar o SettingWithCopyWarning\n",
    "df_filtered.loc[:, 'peso_morador_selec'] = df_filtered['V00291'] * (94114 / 168426190)\n",
    "\n",
    "# 3. Filtrando registros onde 'peso_morador_selec' não é nulo\n",
    "df_filtered = df_filtered[df_filtered['peso_morador_selec'].notna()]\n",
    "\n",
    "# 4. Resumo estatístico para 'peso_morador_selec'\n",
    "print(df_filtered['peso_morador_selec'].describe())"
   ]
  },
  {
   "cell_type": "code",
   "execution_count": 52,
   "id": "0f6b6078-822a-4148-bd57-f8bc4ef41c0b",
   "metadata": {},
   "outputs": [
    {
     "name": "stdout",
     "output_type": "stream",
     "text": [
      "['V0001', 'V0024', 'UPA_PNS', 'V0006_PNS', 'V0015', 'V0020', 'V0022', 'V0026', 'V0031', 'V0025A', 'V0025B', 'A001', 'A002010', 'A003010', 'A004010', 'A01001', 'A011', 'A005010', 'A005012', 'A00601', 'A009010', 'A01401', 'A01402', 'A01403', 'A01501', 'A016010', 'A018011', 'A018012', 'A018013', 'A018014', 'A018015', 'A018016', 'A018017', 'A018018', 'A018019', 'A018020', 'A018021', 'A018022', 'A018023', 'A018024', 'A018025', 'A018026', 'A018027', 'A018028', 'A01901', 'A02101', 'A02102', 'A02201', 'A02305', 'A02306', 'A02307', 'A02308', 'A02401', 'A02402', 'B001', 'B002', 'B003', 'B004', 'C001', 'C00301', 'C004', 'C006', 'C00701', 'C00702', 'C00703', 'C008', 'C009', 'C01001', 'C010010', 'C013', 'C014', 'C015', 'C016', 'C017', 'C018', 'C01801', 'C011', 'C012', 'D001', 'D00201', 'D00202', 'D00301', 'D00501', 'D006', 'D00601', 'D007', 'D008', 'D00901', 'D010', 'D01101', 'D01201', 'D01301', 'D01302', 'D01303', 'D014', 'D015', 'E001', 'E002', 'E003', 'E004', 'E005', 'E006011', 'E008', 'E010010', 'E010011', 'E010012', 'E010013', 'E011', 'E01201', 'E01401', 'E014011', 'E01402', 'E01403', 'E01501', 'E01601', 'E01602', 'E01603', 'E01604', 'E01605', 'E017', 'E01801', 'E01802', 'E01803', 'E01804', 'E01805', 'E019', 'E022', 'E023011', 'E024011', 'E02402', 'E024021', 'E025', 'E02501', 'E02502', 'E02503', 'E026', 'E02601', 'E02801', 'E02802', 'E02803', 'E02804', 'E02805', 'E02806', 'E030', 'E03101', 'E03102', 'E03103', 'E03104', 'E03105', 'E03106', 'E03107', 'E03108', 'E032', 'E033', 'E027', 'F001011', 'F001021', 'F007011', 'F007021', 'F008011', 'F008021', 'VDF001', 'VDF00102', 'F016', 'G033', 'G034', 'G035', 'G036', 'G038', 'G039', 'G040', 'G041', 'G042', 'G044', 'G046', 'G047', 'G048', 'G049', 'G050', 'G051', 'G052', 'G053', 'G054', 'G055', 'G057', 'G058', 'G05801', 'G059', 'G060', 'G061', 'G062', 'G063', 'G064', 'G065', 'G066', 'G067', 'G068', 'G070', 'G071', 'G072', 'G073', 'G074', 'G075', 'G076', 'G077', 'G079', 'G080', 'G081', 'G082', 'G083', 'G084', 'G085', 'G086', 'G032', 'I00101', 'I00102', 'I001021', 'I00103', 'I001031', 'I005', 'I006', 'I004', 'I00401', 'I00402', 'I00403', 'I00404', 'I010010', 'I012', 'J001', 'J00101', 'J002', 'J003', 'J00402', 'J00404', 'J005', 'J006', 'J007', 'J00801', 'J009', 'J01002', 'J01101', 'J012', 'J01301', 'J014', 'J01502', 'J01602', 'J01701', 'J01802', 'J019', 'J02002', 'J021', 'J022010', 'J023', 'J024', 'J025', 'J026', 'J02702', 'J02901', 'J03001', 'J03102', 'J032', 'J03301', 'J034', 'J035', 'J03602', 'J037', 'J038', 'J039', 'J04001', 'J04002', 'J041', 'J042', 'J043', 'J044', 'J046', 'J047', 'J048', 'J049', 'J051', 'J052', 'J05301', 'J05402', 'J05403', 'J05404', 'J05405', 'J05406', 'J05407', 'J05408', 'J05409', 'J054010', 'J056', 'J057', 'J060', 'K001', 'K004', 'K007', 'K010', 'K013', 'K016', 'K019', 'K01901', 'K02001', 'K02101', 'K02102', 'K022', 'K025', 'K028', 'K031', 'K034', 'K03401', 'K03501', 'K03601', 'K03602', 'K04301', 'K04302', 'K04401', 'K045', 'K046', 'K047', 'K048', 'K050', 'K051', 'K052', 'K05302', 'K05401', 'K05402', 'k055', 'K05601', 'K05602', 'K062', 'L01701', 'L01702', 'L01703', 'L01704', 'L01705', 'L01706', 'L01707', 'L01708', 'L01709', 'L01710', 'L01711', 'L01712', 'L01713', 'L01714', 'L01715', 'L01716', 'L018', 'L019', 'L021', 'L022', 'L023', 'L024', 'L025', 'L026', 'L027', 'L028', 'L029', 'L030', 'L031', 'L032', 'L033', 'L034', 'L035', 'L036', 'L037', 'L038', 'L039', 'L040', 'L042', 'M001', 'M002', 'M00203', 'M00302', 'M00303', 'M00401', 'M00402', 'M005010', 'M005011', 'M00601', 'M007', 'M008', 'M009', 'M01001', 'M011011', 'M011021', 'M011031', 'M011041', 'M011051', 'M011061', 'M011071', 'M01401', 'M01501', 'M01601', 'M01701', 'M01801', 'M01901', 'N001', 'N00101', 'N004', 'N005', 'N006', 'N00701', 'N008', 'N010', 'N011', 'N012', 'N013', 'N014', 'N015', 'N016', 'N017', 'N018', 'O00101', 'O00401', 'O00402', 'O00501', 'O00201', 'O00701', 'O00801', 'O00802', 'O00803', 'O009', 'O00901', 'O010', 'O01102', 'O01401', 'O01501', 'O01602', 'O01702', 'O019', 'O02001', 'O021', 'O02101', 'O02201', 'O023', 'O02401', 'P00102', 'P00103', 'P00104', 'P00201', 'P00402', 'P00403', 'P00404', 'P00405', 'P005', 'P00601', 'P00602', 'P00603', 'P00604', 'P00605', 'P00607', 'P00608', 'P00609', 'P00610', 'P00611', 'P00612', 'P00613', 'P00614', 'P00615', 'P00616', 'P00617', 'P00618', 'P00619', 'P00620', 'P00621', 'P00622', 'P00623', 'P006', 'P00901', 'P01001', 'P01101', 'P013', 'P015', 'P02001', 'P02101', 'P01601', 'P018', 'P019', 'P02002', 'P02102', 'P023', 'P02401', 'P02501', 'P02602', 'P02601', 'P027', 'P02801', 'P029', 'P03201', 'P03202', 'P03001', 'P03301', 'P03302', 'P03303', 'P034', 'P035', 'P03701', 'P03702', 'P036', 'P038', 'P039', 'P03904', 'P03905', 'P03906', 'P040', 'P04001', 'P04101', 'P04102', 'P042', 'P04301', 'P04302', 'P044', 'P04401', 'P04405', 'P04406', 'P04501', 'P04502', 'P046', 'P04701', 'P04801', 'P04902', 'P050', 'P051', 'P052', 'P053', 'P05401', 'P05402', 'P05403', 'P05404', 'P05405', 'P05406', 'P05407', 'P05408', 'P05409', 'P05410', 'P05411', 'P05412', 'P05413', 'P05414', 'P05415', 'P05416', 'P05417', 'P05418', 'P05419', 'P05421', 'P05422', 'P055', 'P056', 'P05601', 'P05602', 'P05603', 'P05604', 'P05605', 'P057', 'P058', 'P05801', 'P05802', 'P05901', 'P05902', 'P05903', 'P05904', 'P05905', 'P05906', 'P060', 'P06101', 'P06102', 'P06103', 'P06104', 'P06105', 'P06106', 'P06302', 'P067', 'P06701', 'P068', 'P069', 'P06901', 'P07004', 'P07005', 'P07006', 'P07007', 'P07101', 'P07201', 'Q00101', 'Q00201', 'Q00202', 'Q003', 'Q00401', 'Q00502', 'Q00503', 'Q00601', 'Q00602', 'Q00801', 'Q009', 'Q010', 'Q01101', 'Q01202', 'Q014', 'Q015', 'Q016', 'Q017', 'Q018010', 'Q018011', 'Q018012', 'Q018013', 'Q018014', 'Q018015', 'Q018016', 'Q018017', 'Q01910', 'Q019101', 'Q01911', 'Q019111', 'Q01912', 'Q019121', 'Q01913', 'Q019131', 'Q022', 'Q02301', 'Q026', 'Q02701', 'Q028', 'Q02901', 'Q03001', 'Q03002', 'Q031', 'Q03201', 'Q03302', 'Q03303', 'Q03403', 'Q03404', 'Q03601', 'Q03701', 'Q03801', 'Q03802', 'Q03803', 'Q03804', 'Q03805', 'Q03806', 'Q03807', 'Q03901', 'Q04002', 'Q042', 'Q043', 'Q044', 'Q045', 'Q046011', 'Q046012', 'Q046013', 'Q046014', 'Q046015', 'Q046016', 'Q046017', 'Q046018', 'Q046019', 'Q046020', 'Q046021', 'Q04707', 'Q047071', 'Q04708', 'Q047081', 'Q04709', 'Q047091', 'Q04710', 'Q047101', 'Q04711', 'Q047111', 'Q050', 'Q05101', 'Q05301', 'Q05401', 'Q055011', 'Q055012', 'Q055013', 'Q055014', 'Q055015', 'Q055016', 'Q056', 'Q05701', 'Q058', 'Q05901', 'Q060', 'Q061', 'Q06207', 'Q06208', 'Q06209', 'Q06210', 'Q06211', 'Q06212', 'Q06306', 'Q06307', 'Q06308', 'Q06309', 'Q06310', 'Q06311', 'Q064', 'Q06506', 'Q06507', 'Q06508', 'Q06509', 'Q06601', 'Q067', 'Q068', 'Q070', 'Q07208', 'Q07209', 'Q07210', 'Q07211', 'Q07212', 'Q07213', 'Q073', 'Q074', 'Q075', 'Q076', 'Q07601', 'Q07704', 'Q07705', 'Q07706', 'Q07707', 'Q07708', 'Q07709', 'Q07710', 'Q07711', 'Q078', 'Q079', 'Q080', 'Q08107', 'Q08108', 'Q08109', 'Q08110', 'Q08111', 'Q082', 'Q083', 'Q084', 'Q085', 'Q08607', 'Q08608', 'Q08609', 'Q08610', 'Q08611', 'Q087', 'Q088', 'Q08901', 'Q09007', 'Q09008', 'Q09009', 'Q09010', 'Q09011', 'Q091', 'Q092', 'Q09201', 'Q09202', 'Q09301', 'Q094', 'Q09502', 'Q09605', 'Q09606', 'Q09607', 'Q098', 'Q100', 'Q10101', 'Q10202', 'Q104', 'Q105', 'Q106', 'Q10701', 'Q109', 'Q11006', 'Q11007', 'Q11008', 'Q11009', 'Q11010', 'Q111', 'Q11201', 'Q11405', 'Q11406', 'Q11407', 'Q11408', 'Q115', 'Q11604', 'Q11605', 'Q11606', 'Q11607', 'Q11701', 'Q11806', 'Q11807', 'Q11808', 'Q11809', 'Q119', 'Q120', 'Q12102', 'Q12103', 'Q12104', 'Q12105', 'Q12106', 'Q12107', 'Q12108', 'Q12109', 'Q121010', 'Q121011', 'Q121012', 'Q121013', 'Q121014', 'Q121015', 'Q121016', 'Q12201', 'Q12301', 'Q124', 'Q125', 'Q12501', 'Q12607', 'Q12608', 'Q12609', 'Q12610', 'Q127', 'Q128', 'Q132', 'Q133', 'Q134', 'R00101', 'R002010', 'R004', 'R005', 'R00601', 'R007', 'R008', 'R009010', 'R010', 'R011', 'R012', 'R013', 'R014', 'R015', 'R01701', 'R019', 'R020', 'R02101', 'R022', 'R023', 'R02402', 'R025', 'R026', 'R027', 'R028', 'R029', 'R030', 'R031', 'R032', 'R033', 'R034', 'R035', 'R03601', 'R03602', 'R03603', 'R03604', 'R03605', 'R03606', 'R03607', 'R03608', 'R03609', 'R03610', 'R03611', 'R037', 'R038', 'S065', 'S066', 'S06701', 'S06702', 'S06703', 'S068', 'S06901', 'S06902', 'S070', 'S071', 'S072', 'S073', 'S074', 'S075', 'S076', 'S077', 'S07901', 'S07902', 'S07903', 'S07904', 'S07905', 'S080', 'S081', 'S082', 'S083', 'S084', 'S085', 'S086', 'S087', 'S088', 'S089', 'S090', 'S091', 'S092', 'S095', 'S096', 'S097', 'S098', 'S099', 'S09901', 'S109', 'S110', 'S11001', 'S111', 'S112', 'S113', 'S114', 'S115', 'S116', 'S117', 'S118', 'S11801', 'S119', 'S120', 'S121', 'S122', 'S123', 'S124', 'S125', 'S126', 'S127', 'S128', 'S129', 'S130', 'S131', 'S132', 'S133', 'S134', 'S135', 'S136', 'S137', 'S138', 'S139', 'U00204', 'U00205', 'U00206', 'U00207', 'U00208', 'U00101', 'U00401', 'U005', 'U006', 'U00902', 'U01002', 'U014', 'U02001', 'U02101', 'U02302', 'U02303', 'U02402', 'U02403', 'U02501', 'Z001', 'Z00101', 'Z00102', 'Z002', 'Z003', 'Z004', 'Z005', 'Z006', 'Z007', 'Z008', 'Z009', 'Z010', 'Z011', 'Z012', 'Z013', 'Z01401', 'Z01402', 'V001', 'V00101', 'V00201', 'V00202', 'V00203', 'V00204', 'V00205', 'V003', 'V006', 'V007', 'V01401', 'V01402', 'V01403', 'V01404', 'V01405', 'V015', 'V018', 'V019', 'V02701', 'V02702', 'V02801', 'V02802', 'V029', 'V032', 'V033', 'V034', 'V03501', 'V03502', 'V03503', 'V036', 'V037', 'V038', 'V039', 'T001', 'T002', 'T003', 'T004', 'T005', 'T00601', 'T00602', 'T00603', 'T00604', 'T00605', 'T00606', 'Y001', 'Y00101', 'Y002', 'Y003', 'Y004', 'Y005', 'Y006', 'Y007', 'H001', 'H002', 'H003', 'H004', 'H005', 'H006', 'H007', 'H008', 'H009', 'H010', 'H011', 'H012', 'H013', 'H014', 'H015', 'H016', 'H017', 'H018', 'H019', 'H020', 'H021', 'H022', 'H023', 'H024', 'H025', 'H026', 'H027', 'H028', 'H029', 'H030', 'W001', 'W00101', 'W00102', 'W00103', 'W00201', 'W00202', 'W00203', 'V0028', 'V0029', 'V0030', 'V00281', 'V00291', 'V00301', 'V00282', 'V00292', 'V00302', 'V00283', 'V00293', 'V00303', 'VDC001', 'VDC003', 'VDD004A', 'VDE001', 'VDE002', 'VDE014', 'VDF002', 'VDF003', 'VDF004', 'VDL001', 'VDM001', 'VDP001', 'VDR001', 'VDDATA', 'peso_morador_selec']\n"
     ]
    }
   ],
   "source": [
    "# Visualizando todas as colunas do dataset filtrado\n",
    "print(df_filtered.columns.tolist())"
   ]
  },
  {
   "cell_type": "markdown",
   "id": "d276b4ed-9f55-44de-bdd1-d29ef12da4c2",
   "metadata": {},
   "source": [
    "!!! bom analisar se tem alguma coluna que supostamente não vamos usar, para retirar eu olhei a intersecção mas não achei nada a principio\n",
    "\n",
    "- Doenças Crônicas (Q-2019) \n",
    "- Estilo de vida / Consumo de álcool (P-2019) <br>\n",
    "- Estilo de vida / Tabagismo (P-2019) <br>\n",
    "- Saúde Bucal (U-2019) <br>\n",
    "- Saúde da mulher (R-2019) <br>\n",
    "- Saúde dos idosos (K-2019) <br>\n",
    "- Deficiências (G-2019) <br>\n",
    "- Saúde da mulher / pré-natal (S-2019) <br>\n",
    "- Saúde da mulher / assistência ao parto (S-2019) <br>"
   ]
  },
  {
   "cell_type": "markdown",
   "id": "47df742d-23f4-44c2-8046-f6aa8238a57a",
   "metadata": {},
   "source": [
    "# Criação de variáveis dos indicadores/colunas"
   ]
  },
  {
   "cell_type": "markdown",
   "id": "51db517c-5636-48f6-9eb5-755f91031474",
   "metadata": {},
   "source": [
    "## Definições de abrangências gerais"
   ]
  },
  {
   "cell_type": "markdown",
   "id": "2719a76b-cc09-457f-8702-71265a96b941",
   "metadata": {},
   "source": [
    "### Situação urbana ou rural"
   ]
  },
  {
   "cell_type": "code",
   "execution_count": 53,
   "id": "a1dac1ed-be85-48fb-813d-0855177f64da",
   "metadata": {},
   "outputs": [
    {
     "name": "stdout",
     "output_type": "stream",
     "text": [
      "Sit_Urbano_Rural\n",
      "1    69873\n",
      "2    20973\n",
      "Name: count, dtype: int64\n"
     ]
    }
   ],
   "source": [
    "# Renomear a coluna V0026 para Sit_Urbano_Rural\n",
    "df_filtered = df_filtered.rename(columns={'V0026': 'Sit_Urbano_Rural'})\n",
    "\n",
    "'''\n",
    "1 = URBANO\n",
    "2 = RURAL\n",
    "\n",
    "'''\n",
    "\n",
    "# Exibir resumo da variável Sit_Urbano_Rural\n",
    "print(df_filtered['Sit_Urbano_Rural'].value_counts())"
   ]
  },
  {
   "cell_type": "markdown",
   "id": "3634c3e1-acaa-4229-82a3-40d74ea78ed8",
   "metadata": {},
   "source": [
    "### Sexo"
   ]
  },
  {
   "cell_type": "code",
   "execution_count": 54,
   "id": "9c639f6e-7a3c-4d09-8183-2388f3527e0f",
   "metadata": {},
   "outputs": [
    {
     "name": "stdout",
     "output_type": "stream",
     "text": [
      "Sexo\n",
      "2.0    48047\n",
      "1.0    42799\n",
      "Name: count, dtype: int64\n"
     ]
    }
   ],
   "source": [
    "# Renomear a coluna C006 para Sexo\n",
    "df_filtered = df_filtered.rename(columns={'C006': 'Sexo'})\n",
    "\n",
    "'''\n",
    "1 = Masculino\n",
    "2 = Feminino\n",
    "\n",
    "'''\n",
    "# Exibir resumo da variável Sexo\n",
    "print(df_filtered['Sexo'].value_counts())"
   ]
  },
  {
   "cell_type": "markdown",
   "id": "4fd24cfe-984d-4f4c-bd3b-f242aab9dc50",
   "metadata": {},
   "source": [
    "### UF"
   ]
  },
  {
   "cell_type": "code",
   "execution_count": 55,
   "id": "3e29ac66-58fb-459f-bdab-849047a9e799",
   "metadata": {},
   "outputs": [
    {
     "name": "stdout",
     "output_type": "stream",
     "text": [
      "Estado\n",
      "35    6114\n",
      "31    5209\n",
      "21    5080\n",
      "33    4966\n",
      "23    4265\n",
      "26    4083\n",
      "41    3967\n",
      "15    3853\n",
      "43    3767\n",
      "42    3738\n",
      "29    3659\n",
      "32    3541\n",
      "13    3479\n",
      "25    3158\n",
      "27    2987\n",
      "24    2962\n",
      "50    2863\n",
      "22    2740\n",
      "52    2702\n",
      "28    2610\n",
      "51    2468\n",
      "12    2380\n",
      "53    2365\n",
      "14    2238\n",
      "11    2176\n",
      "17    1922\n",
      "16    1554\n",
      "Name: count, dtype: int64\n"
     ]
    }
   ],
   "source": [
    "# Renomear a coluna V0001 para Unidades_da_Federacao\n",
    "df_filtered = df_filtered.rename(columns={'V0001': 'Estado'})\n",
    "\n",
    "'''\n",
    "\"Rondônia\" = 11\n",
    "\"Acre\" = 12\n",
    "\"Amazonas\" = 13\n",
    "\"Roraima\" = 14\n",
    "\"Pará\" = 15\n",
    "\"Amapá\" = 16\n",
    "\"Tocantins\" = 17\n",
    "\"Maranhão\" = 21\n",
    "\"Piauí\" = 22\n",
    "\"Ceará\" = 23\n",
    "\"Rio Grande do Norte\" = 24\n",
    "\"Paraíba\" = 25\n",
    "\"Pernambuco\" = 26\n",
    "\"Alagoas\" = 27\n",
    "\"Sergipe\" = 28\n",
    "\"Bahia\" = 29\n",
    "\"Minas Gerais\" = 31\n",
    "\"Espírito Santo\" = 32\n",
    "\"Rio de Janeiro\" = 33\n",
    "\"São Paulo\" = 35\n",
    "\"Paraná\" = 41\n",
    "\"Santa Catarina\" = 42\n",
    "\"Rio Grande do Sul\" = 43\n",
    "\"Mato Grosso do Sul\" = 50\n",
    "\"Mato Grosso\" = 51\n",
    "\"Goiás\" = 52\n",
    "\"Distrito Federal\" = 53\n",
    "\n",
    "'''\n",
    "\n",
    "# Exibir resumo da variável Unidades_da_Federacao\n",
    "print(df_filtered['Estado'].value_counts())"
   ]
  },
  {
   "cell_type": "markdown",
   "id": "1021801c-210d-4c9f-bc05-c8202c4c1f4b",
   "metadata": {},
   "source": [
    "### Grandes Regiões\n",
    "\n",
    "não sei se é importante, não vejo utilidade nessa coluna."
   ]
  },
  {
   "cell_type": "code",
   "execution_count": 56,
   "id": "641f2f3d-d945-4b8e-a0e6-342b9437c4db",
   "metadata": {},
   "outputs": [
    {
     "name": "stdout",
     "output_type": "stream",
     "text": [
      "Series([], Name: count, dtype: int64)\n"
     ]
    }
   ],
   "source": [
    "# Definindo as grandes regiões com base nas Unidades da Federação\n",
    "df_filtered['GrandesRegioes'] = np.select(\n",
    "    [\n",
    "        df_filtered['Estado'].isin([\"Rondônia\", \"Acre\", \"Amazonas\", \"Roraima\", \"Pará\", \"Amapá\", \"Tocantins\"]),\n",
    "        df_filtered['Estado'].isin([\"Maranhão\", \"Piauí\", \"Ceará\", \"Rio Grande do Norte\", \"Paraíba\", \"Pernambuco\", \"Alagoas\", \"Sergipe\", \"Bahia\"]),\n",
    "        df_filtered['Estado'].isin([\"Minas Gerais\", \"Espírito Santo\", \"Rio de Janeiro\", \"São Paulo\"]),\n",
    "        df_filtered['Estado'].isin([\"Paraná\", \"Santa Catarina\", \"Rio Grande do Sul\"]),\n",
    "        df_filtered['Estado'].isin([\"Mato Grosso do Sul\", \"Mato Grosso\", \"Goiás\", \"Distrito Federal\"])\n",
    "    ],\n",
    "    [\"Norte\", \"Nordeste\", \"Sudeste\", \"Sul\", \"Centro-Oeste\"],\n",
    "    default=None  # Alterado para None para garantir que seja tratado como string\n",
    ")\n",
    "\n",
    "# Exibir resumo da variável GrandesRegioes\n",
    "print(df_filtered['GrandesRegioes'].value_counts())"
   ]
  },
  {
   "cell_type": "markdown",
   "id": "9fb145cc-580f-4547-b7cc-244f2055bbfd",
   "metadata": {},
   "source": [
    "### Capital\n",
    "\n",
    "não sei se é importante, não vejo utilidade nessa coluna."
   ]
  },
  {
   "cell_type": "code",
   "execution_count": 57,
   "id": "ad6bf6c4-eef0-4b96-9213-8b84a3cc6b35",
   "metadata": {},
   "outputs": [
    {
     "name": "stdout",
     "output_type": "stream",
     "text": [
      "Series([], Name: count, dtype: int64)\n"
     ]
    }
   ],
   "source": [
    "# Definindo as capitais com base nas Unidades da Federação\n",
    "capitals_mapping = {\n",
    "    \"Rondônia\": \"Porto Velho\", \"Roraima\": \"Boa Vista\", \"Acre\": \"Rio Branco\", \n",
    "    \"Amazonas\": \"Manaus\", \"Pará\": \"Belém\", \"Amapá\": \"Macapá\", \"Tocantins\": \"Palmas\", \n",
    "    \"Maranhão\": \"São Luís\", \"Piauí\": \"Teresina\", \"Ceará\": \"Fortaleza\", \"Rio Grande do Norte\": \"Natal\", \n",
    "    \"Paraíba\": \"João Pessoa\", \"Pernambuco\": \"Recife\", \"Alagoas\": \"Maceió\", \"Sergipe\": \"Aracaju\", \n",
    "    \"Bahia\": \"Salvador\", \"Minas Gerais\": \"Belo Horizonte\", \"Espírito Santo\": \"Vitória\", \n",
    "    \"Rio de Janeiro\": \"Rio de Janeiro\", \"São Paulo\": \"São Paulo\", \"Paraná\": \"Curitiba\", \n",
    "    \"Santa Catarina\": \"Florianópolis\", \"Rio Grande do Sul\": \"Porto Alegre\", \n",
    "    \"Mato Grosso do Sul\": \"Campo Grande\", \"Mato Grosso\": \"Cuiabá\", \"Goiás\": \"Goiânia\", \n",
    "    \"Distrito Federal\": \"Brasília\"\n",
    "}\n",
    "\n",
    "df_filtered['Capital'] = df_filtered['Estado'].map(capitals_mapping)\n",
    "\n",
    "# Exibir resumo da variável Capital\n",
    "print(df_filtered['Capital'].value_counts())"
   ]
  },
  {
   "cell_type": "markdown",
   "id": "ca5b2784-edbe-4a3e-b052-b2271a974fb4",
   "metadata": {},
   "source": [
    "### Faixa Etária"
   ]
  },
  {
   "cell_type": "code",
   "execution_count": 58,
   "id": "90face2c-e82d-4dc0-bc74-9e8437031a31",
   "metadata": {},
   "outputs": [
    {
     "name": "stdout",
     "output_type": "stream",
     "text": [
      "Faixa_idade\n",
      "37.0     1990\n",
      "39.0     1904\n",
      "36.0     1882\n",
      "35.0     1833\n",
      "38.0     1820\n",
      "         ... \n",
      "99.0        6\n",
      "100.0       5\n",
      "104.0       3\n",
      "102.0       1\n",
      "107.0       1\n",
      "Name: count, Length: 91, dtype: int64\n"
     ]
    }
   ],
   "source": [
    "df_filtered = df_filtered.rename(columns={'C008': 'Faixa_idade'})\n",
    "\n",
    "# Exibir resumo da variável faixa_idade\n",
    "print(df_filtered['Faixa_idade'].value_counts())"
   ]
  },
  {
   "cell_type": "markdown",
   "id": "08ae587f-f284-4cd6-ab91-a67fb8b6ed61",
   "metadata": {},
   "source": [
    "### Raça"
   ]
  },
  {
   "cell_type": "code",
   "execution_count": 59,
   "id": "1bf335dc-9042-4cf8-834c-9766a9a9e894",
   "metadata": {},
   "outputs": [
    {
     "name": "stdout",
     "output_type": "stream",
     "text": [
      "Raca\n",
      "4.0    45994\n",
      "1.0    33133\n",
      "2.0    10345\n",
      "5.0      684\n",
      "3.0      680\n",
      "9.0       10\n",
      "Name: count, dtype: int64\n"
     ]
    }
   ],
   "source": [
    "df_filtered = df_filtered.rename(columns={'C009': 'Raca'})\n",
    "\n",
    "'''\n",
    "1 = Branca\n",
    "2 = Preta\n",
    "4 = Parda\n",
    "3, 5, 9 =  Outros (não especificados)\n",
    "\n",
    "'''\n",
    "\n",
    "# Resumo da variável Raça\n",
    "print(df_filtered['Raca'].value_counts())"
   ]
  },
  {
   "cell_type": "markdown",
   "id": "319c5e07-fd03-41d1-8b7c-b9cab552c5d5",
   "metadata": {},
   "source": [
    "### Renda per capita"
   ]
  },
  {
   "cell_type": "code",
   "execution_count": 60,
   "id": "197601b5-a6dd-499a-8e63-366f5230b233",
   "metadata": {},
   "outputs": [
    {
     "name": "stdout",
     "output_type": "stream",
     "text": [
      "Rend_per_capita\n",
      "3.0    26406\n",
      "4.0    22466\n",
      "2.0    14147\n",
      "1.0     9550\n",
      "5.0     7612\n",
      "6.0     5554\n",
      "7.0     5089\n",
      "Name: count, dtype: int64\n"
     ]
    }
   ],
   "source": [
    "df_filtered = df_filtered.rename(columns={'VDF004': 'Rend_per_capita'})\n",
    "\n",
    "'''\n",
    "1, 2 = Até 1/2 SM\n",
    "3 = 1/2 até 1 SM\n",
    "4 = 1 até 2 SM\n",
    "5 = 2 até 3 SM\n",
    "6, 7 =  Mais de 3 SM\n",
    "'''\n",
    "\n",
    "# Resumo da variável rendimento per capita\n",
    "print(df_filtered['Rend_per_capita'].value_counts())"
   ]
  },
  {
   "cell_type": "markdown",
   "id": "0da517ac-c5f2-48d6-ac2b-c6cb1d86ff42",
   "metadata": {},
   "source": [
    "### Escolaridade"
   ]
  },
  {
   "cell_type": "code",
   "execution_count": 61,
   "id": "f9fa2816-29ae-4ca8-8278-aab6364ab0bc",
   "metadata": {},
   "outputs": [
    {
     "name": "stdout",
     "output_type": "stream",
     "text": [
      "Escolaridade\n",
      "2.0    28618\n",
      "5.0    23471\n",
      "7.0    13617\n",
      "1.0     7658\n",
      "3.0     7167\n",
      "4.0     6353\n",
      "6.0     3962\n",
      "Name: count, dtype: int64\n"
     ]
    }
   ],
   "source": [
    "# Escolaridade\n",
    "\n",
    "df_filtered = df_filtered.rename(columns={'VDD004A': 'Escolaridade'})\n",
    "\n",
    "'''\n",
    "1,2 = Fundamental incompleto\n",
    "3, 4 = Médio incompleto\n",
    "5, 6 = Superior incompleto\n",
    "7 = Superior completo\n",
    "\n",
    "'''\n",
    "\n",
    "# Resumo da variável escolaridade\n",
    "print(df_filtered['Escolaridade'].value_counts())"
   ]
  },
  {
   "cell_type": "markdown",
   "id": "ee7dd80b-1b75-49ff-a383-4d5e2fd4b0b5",
   "metadata": {},
   "source": [
    "## Definições de abrangências Especificas\n",
    "\n",
    "!!! Abaixo tem apenas a tradução do codigo em R para python, perceba que esse codigo não altera os nomes das colunas, mas altera os valores de int para string ('sim' ou 'não'), eu não estudei aprofundamente, mas acredito que para trabalharmos com os modelos desse projeto seria melhor(e ate correto) com os valores em int, e depois interpretariamos tipo 1 = 'sim' e 2 = 'não';\n",
    "\n",
    "Para a Rede Neural, Árvore de Decisão e SVM, usaremos os seguinte módulos:\n",
    "\n",
    "**Doenças Crônicas (Q)** - apesar de ser uma das mais completas, ela trava o meu notebook, logo, eu me viraria com as outras<br>\n",
    "*Estilo de Vida/Alimentação (P)* <br>\n",
    "*Estilo de Vida/Prática de Atividade Física (P)* <br>\n",
    "*Antropometria (W)* <br>\n",
    "*Utilização de Serviços de Saúde (J)* <br>\n",
    "*Percepção do Estado de Saúde (N)* <br>\n",
    "*Cobertura de Plano de Saúde (I)* <br>\n",
    "*Estilo de Vida/Consumo de Álcool (P)* <br>\n",
    "*Acidentes (O)* <br>\n",
    "*Violências (V)* <br>"
   ]
  },
  {
   "cell_type": "markdown",
   "id": "273b25ac-1181-49de-99fb-274ba22accf9",
   "metadata": {},
   "source": [
    "- **Doenças Crônicas (Q-2019)**"
   ]
  },
  {
   "cell_type": "code",
   "execution_count": 62,
   "id": "3748b68c-dbb5-460d-b1a0-126c31b1282c",
   "metadata": {},
   "outputs": [
    {
     "data": {
      "text/plain": [
       "'\\n# Pressão arterial nunca aferida - Q001P\\ndf_filtered[\\'Q001P\\'] = np.where(df_filtered[\\'Q00101\\'] == 6, 1, 2)\\ndf_filtered[\\'Q001P\\'] = pd.Categorical(df_filtered[\\'Q001P\\'], categories=[1, 2], ordered=True, labels=[\"Sim\", \"Não\"])\\n#print(df_filtered[\\'Q001P\\'].value_counts())\\n\\n# Diagnóstico médico autorreferido de hipertensão arterial - Q002P\\ndf_filtered[\\'Q002P\\'] = np.where((df_filtered[\\'Q00202\\'] == 1) & (df_filtered[\\'C006\\'] == 2), 2,\\n                        np.where(df_filtered[\\'Q00201\\'] == 1, 1, 2))\\ndf_filtered[\\'Q002P\\'] = pd.Categorical(df_filtered[\\'Q002P\\'], categories=[1, 2], ordered=True, labels=[\"Sim\", \"Não\"])\\n#print(df_filtered[\\'Q002P\\'].value_counts())\\n\\n# Exame de sangue para medir a glicemia nunca realizado - Q003P\\ndf_filtered[\\'Q003P\\'] = np.where(df_filtered[\\'Q02901\\'] == 6, 1, 2)\\ndf_filtered[\\'Q003P\\'] = pd.Categorical(df_filtered[\\'Q003P\\'], categories=[1, 2], ordered=True, labels=[\"Sim\", \"Não\"])\\n#print(df_filtered[\\'Q003P\\'].value_counts())\\n\\n# Diagnóstico médico autorreferido de diabetes - Q004P\\ndf_filtered[\\'Q004P\\'] = np.where((df_filtered[\\'Q03002\\'] == 1) & (df_filtered[\\'C006\\'] == 2), 2,\\n                        np.where(df_filtered[\\'Q03001\\'] == 1, 1, 2))\\ndf_filtered[\\'Q004P\\'] = pd.Categorical(df_filtered[\\'Q004P\\'], categories=[1, 2], ordered=True, labels=[\"Sim\", \"Não\"])\\n#print(df_filtered[\\'Q004P\\'].value_counts())\\n\\n# Exame de sangue para medir colesterol/triglicérides nunca realizado - Q005P\\ndf_filtered[\\'Q005P\\'] = np.where(df_filtered[\\'Q05901\\'] == 6, 1, 2)\\ndf_filtered[\\'Q005P\\'] = pd.Categorical(df_filtered[\\'Q005P\\'], categories=[1, 2], ordered=True, labels=[\"Sim\", \"Não\"])\\n#print(df_filtered[\\'Q005P\\'].value_counts())\\n\\n# Diagnóstico médico autorreferido de colesterol alto - Q006P\\ndf_filtered[\\'Q006P\\'] = np.where(df_filtered[\\'Q060\\'] == 1, 1, 2)\\ndf_filtered[\\'Q006P\\'] = pd.Categorical(df_filtered[\\'Q006P\\'], categories=[1, 2], ordered=True, labels=[\"Sim\", \"Não\"])\\n#print(df_filtered[\\'Q006P\\'].value_counts())\\n\\n# Diagnóstico médico autorreferido de alguma doença do coração - Q007P\\ndf_filtered[\\'Q007P\\'] = np.where(df_filtered[\\'Q06306\\'] == 1, 1, 2)\\ndf_filtered[\\'Q007P\\'] = pd.Categorical(df_filtered[\\'Q007P\\'], categories=[1, 2], ordered=True, labels=[\"Sim\", \"Não\"])\\n#print(df_filtered[\\'Q007P\\'].value_counts())\\n\\n# Diagnóstico médico autorreferido de AVC (Acidente Vascular Cerebral) - Q008P\\ndf_filtered[\\'Q008P\\'] = np.where(df_filtered[\\'Q068\\'] == 1, 1, 2)\\ndf_filtered[\\'Q008P\\'] = pd.Categorical(df_filtered[\\'Q008P\\'], categories=[1, 2], ordered=True, labels=[\"Sim\", \"Não\"])\\n#print(df_filtered[\\'Q008P\\'].value_counts())\\n\\n# Diagnóstico médico autorreferido de asma - Q009P\\ndf_filtered[\\'Q009P\\'] = np.where(df_filtered[\\'Q074\\'] == 1, 1, 2)\\ndf_filtered[\\'Q009P\\'] = pd.Categorical(df_filtered[\\'Q009P\\'], categories=[1, 2], ordered=True, labels=[\"Sim\", \"Não\"])\\n#print(df_filtered[\\'Q009P\\'].value_counts())\\n\\n# Crise de asma nos últimos 12 meses - Q010P\\ndf_filtered[\\'Q010P\\'] = np.where((df_filtered[\\'Q074\\'] == 1) & (df_filtered[\\'Q076\\'] == 1), 1, 2)\\ndf_filtered[\\'Q010P\\'] = pd.Categorical(df_filtered[\\'Q010P\\'], categories=[1, 2], ordered=True, labels=[\"Sim\", \"Não\"])\\n#print(df_filtered[\\'Q010P\\'].value_counts())\\n\\n# Diagnóstico médico autorreferido de artrite ou reumatismo - Q011P\\ndf_filtered[\\'Q011P\\'] = np.where(df_filtered[\\'Q079\\'] == 1, 1, 2)\\ndf_filtered[\\'Q011P\\'] = pd.Categorical(df_filtered[\\'Q011P\\'], categories=[1, 2], ordered=True, labels=[\"Sim\", \"Não\"])\\n#print(df_filtered[\\'Q011P\\'].value_counts())\\n\\n# Problema crônico de coluna - Q012P\\ndf_filtered[\\'Q012P\\'] = np.where(df_filtered[\\'Q084\\'] == 1, 1, 2)\\ndf_filtered[\\'Q012P\\'] = pd.Categorical(df_filtered[\\'Q012P\\'], categories=[1, 2], ordered=True, labels=[\"Sim\", \"Não\"])\\n#print(df_filtered[\\'Q012P\\'].value_counts())\\n\\n# Diagnóstico médico autorreferido de DORT (distúrbio osteomuscular relacionado ao trabalho) - Q013P\\ndf_filtered[\\'Q013P\\'] = np.where(df_filtered[\\'Q088\\'] == 1, 1, 2)\\ndf_filtered[\\'Q013P\\'] = pd.Categorical(df_filtered[\\'Q013P\\'], categories=[1, 2], ordered=True, labels=[\"Sim\", \"Não\"])\\n#print(df_filtered[\\'Q013P\\'].value_counts())\\n\\n# Diagnóstico médico autorreferido de depressão - Q014P\\ndf_filtered[\\'Q014P\\'] = np.where(df_filtered[\\'Q092\\'] == 1, 1, 2)\\ndf_filtered[\\'Q014P\\'] = pd.Categorical(df_filtered[\\'Q014P\\'], categories=[1, 2], ordered=True, labels=[\"Sim\", \"Não\"])\\n#print(df_filtered[\\'Q014P\\'].value_counts())\\n\\n# Diagnóstico médico autorreferido de outra doença mental - Q015P\\ndf_filtered[\\'Q015P\\'] = np.where((df_filtered[\\'Q11007\\'] == 1) | (df_filtered[\\'Q11008\\'] == 1) | (df_filtered[\\'Q11009\\'] == 1), 1, 2)\\ndf_filtered[\\'Q015P\\'] = pd.Categorical(df_filtered[\\'Q015P\\'], categories=[1, 2], ordered=True, labels=[\"Sim\", \"Não\"])\\n#print(df_filtered[\\'Q015P\\'].value_counts())\\n\\n# Diagnóstico médico autorreferido de doença pulmonar - Q016P\\ndf_filtered[\\'Q016P\\'] = np.where(df_filtered[\\'Q11604\\'] == 1, 1, 2)\\ndf_filtered[\\'Q016P\\'] = pd.Categorical(df_filtered[\\'Q016P\\'], categories=[1, 2], ordered=True, labels=[\"Sim\", \"Não\"])\\n#print(df_filtered[\\'Q016P\\'].value_counts())\\n\\n# Diagnóstico médico autorreferido de câncer - Q017P\\ndf_filtered[\\'Q017P\\'] = np.where(df_filtered[\\'Q120\\'] == 1, 1, 2)\\ndf_filtered[\\'Q017P\\'] = pd.Categorical(df_filtered[\\'Q017P\\'], categories=[1, 2], ordered=True, labels=[\"Sim\", \"Não\"])\\n#print(df_filtered[\\'Q017P\\'].value_counts())\\n\\n# Diagnóstico médico autorreferido de insuficiência renal crônica - Q018P\\ndf_filtered[\\'Q018P\\'] = np.where(df_filtered[\\'Q124\\'] == 1, 1, 2)\\ndf_filtered[\\'Q018P\\'] = pd.Categorical(df_filtered[\\'Q018P\\'], categories=[1, 2], ordered=True, labels=[\"Sim\", \"Não\"])\\n#print(df_filtered[\\'Q018P\\'].value_counts())\\n\\n# Diagnóstico médico autorreferido de pelo menos uma DCNT - Q019P\\ndf_filtered[\\'Q019P\\'] = np.where((df_filtered[\\'Q011P\\'] == \\'Sim\\') | (df_filtered[\\'Q009P\\'] == \\'Sim\\') | (df_filtered[\\'Q008P\\'] == \\'Sim\\') | \\n                                (df_filtered[\\'Q012P\\'] == \\'Sim\\') | (df_filtered[\\'Q017P\\'] == \\'Sim\\') | (df_filtered[\\'Q007P\\'] == \\'Sim\\') | \\n                                (df_filtered[\\'Q014P\\'] == \\'Sim\\') | (df_filtered[\\'Q004P\\'] == \\'Sim\\') | (df_filtered[\\'Q013P\\'] == \\'Sim\\') |\\n                                (df_filtered[\\'Q016P\\'] == \\'Sim\\') | (df_filtered[\\'Q018P\\'] == \\'Sim\\'), 1, 2)\\ndf_filtered[\\'Q019P\\'] = pd.Categorical(df_filtered[\\'Q019P\\'], categories=[1, 2], ordered=True, labels=[\"Sim\", \"Não\"])\\n#print(df_filtered[\\'Q019P\\'].value_counts())\\n'"
      ]
     },
     "execution_count": 62,
     "metadata": {},
     "output_type": "execute_result"
    }
   ],
   "source": [
    "'''\n",
    "# Pressão arterial nunca aferida - Q001P\n",
    "df_filtered['Q001P'] = np.where(df_filtered['Q00101'] == 6, 1, 2)\n",
    "df_filtered['Q001P'] = pd.Categorical(df_filtered['Q001P'], categories=[1, 2], ordered=True, labels=[\"Sim\", \"Não\"])\n",
    "#print(df_filtered['Q001P'].value_counts())\n",
    "\n",
    "# Diagnóstico médico autorreferido de hipertensão arterial - Q002P\n",
    "df_filtered['Q002P'] = np.where((df_filtered['Q00202'] == 1) & (df_filtered['C006'] == 2), 2,\n",
    "                        np.where(df_filtered['Q00201'] == 1, 1, 2))\n",
    "df_filtered['Q002P'] = pd.Categorical(df_filtered['Q002P'], categories=[1, 2], ordered=True, labels=[\"Sim\", \"Não\"])\n",
    "#print(df_filtered['Q002P'].value_counts())\n",
    "\n",
    "# Exame de sangue para medir a glicemia nunca realizado - Q003P\n",
    "df_filtered['Q003P'] = np.where(df_filtered['Q02901'] == 6, 1, 2)\n",
    "df_filtered['Q003P'] = pd.Categorical(df_filtered['Q003P'], categories=[1, 2], ordered=True, labels=[\"Sim\", \"Não\"])\n",
    "#print(df_filtered['Q003P'].value_counts())\n",
    "\n",
    "# Diagnóstico médico autorreferido de diabetes - Q004P\n",
    "df_filtered['Q004P'] = np.where((df_filtered['Q03002'] == 1) & (df_filtered['C006'] == 2), 2,\n",
    "                        np.where(df_filtered['Q03001'] == 1, 1, 2))\n",
    "df_filtered['Q004P'] = pd.Categorical(df_filtered['Q004P'], categories=[1, 2], ordered=True, labels=[\"Sim\", \"Não\"])\n",
    "#print(df_filtered['Q004P'].value_counts())\n",
    "\n",
    "# Exame de sangue para medir colesterol/triglicérides nunca realizado - Q005P\n",
    "df_filtered['Q005P'] = np.where(df_filtered['Q05901'] == 6, 1, 2)\n",
    "df_filtered['Q005P'] = pd.Categorical(df_filtered['Q005P'], categories=[1, 2], ordered=True, labels=[\"Sim\", \"Não\"])\n",
    "#print(df_filtered['Q005P'].value_counts())\n",
    "\n",
    "# Diagnóstico médico autorreferido de colesterol alto - Q006P\n",
    "df_filtered['Q006P'] = np.where(df_filtered['Q060'] == 1, 1, 2)\n",
    "df_filtered['Q006P'] = pd.Categorical(df_filtered['Q006P'], categories=[1, 2], ordered=True, labels=[\"Sim\", \"Não\"])\n",
    "#print(df_filtered['Q006P'].value_counts())\n",
    "\n",
    "# Diagnóstico médico autorreferido de alguma doença do coração - Q007P\n",
    "df_filtered['Q007P'] = np.where(df_filtered['Q06306'] == 1, 1, 2)\n",
    "df_filtered['Q007P'] = pd.Categorical(df_filtered['Q007P'], categories=[1, 2], ordered=True, labels=[\"Sim\", \"Não\"])\n",
    "#print(df_filtered['Q007P'].value_counts())\n",
    "\n",
    "# Diagnóstico médico autorreferido de AVC (Acidente Vascular Cerebral) - Q008P\n",
    "df_filtered['Q008P'] = np.where(df_filtered['Q068'] == 1, 1, 2)\n",
    "df_filtered['Q008P'] = pd.Categorical(df_filtered['Q008P'], categories=[1, 2], ordered=True, labels=[\"Sim\", \"Não\"])\n",
    "#print(df_filtered['Q008P'].value_counts())\n",
    "\n",
    "# Diagnóstico médico autorreferido de asma - Q009P\n",
    "df_filtered['Q009P'] = np.where(df_filtered['Q074'] == 1, 1, 2)\n",
    "df_filtered['Q009P'] = pd.Categorical(df_filtered['Q009P'], categories=[1, 2], ordered=True, labels=[\"Sim\", \"Não\"])\n",
    "#print(df_filtered['Q009P'].value_counts())\n",
    "\n",
    "# Crise de asma nos últimos 12 meses - Q010P\n",
    "df_filtered['Q010P'] = np.where((df_filtered['Q074'] == 1) & (df_filtered['Q076'] == 1), 1, 2)\n",
    "df_filtered['Q010P'] = pd.Categorical(df_filtered['Q010P'], categories=[1, 2], ordered=True, labels=[\"Sim\", \"Não\"])\n",
    "#print(df_filtered['Q010P'].value_counts())\n",
    "\n",
    "# Diagnóstico médico autorreferido de artrite ou reumatismo - Q011P\n",
    "df_filtered['Q011P'] = np.where(df_filtered['Q079'] == 1, 1, 2)\n",
    "df_filtered['Q011P'] = pd.Categorical(df_filtered['Q011P'], categories=[1, 2], ordered=True, labels=[\"Sim\", \"Não\"])\n",
    "#print(df_filtered['Q011P'].value_counts())\n",
    "\n",
    "# Problema crônico de coluna - Q012P\n",
    "df_filtered['Q012P'] = np.where(df_filtered['Q084'] == 1, 1, 2)\n",
    "df_filtered['Q012P'] = pd.Categorical(df_filtered['Q012P'], categories=[1, 2], ordered=True, labels=[\"Sim\", \"Não\"])\n",
    "#print(df_filtered['Q012P'].value_counts())\n",
    "\n",
    "# Diagnóstico médico autorreferido de DORT (distúrbio osteomuscular relacionado ao trabalho) - Q013P\n",
    "df_filtered['Q013P'] = np.where(df_filtered['Q088'] == 1, 1, 2)\n",
    "df_filtered['Q013P'] = pd.Categorical(df_filtered['Q013P'], categories=[1, 2], ordered=True, labels=[\"Sim\", \"Não\"])\n",
    "#print(df_filtered['Q013P'].value_counts())\n",
    "\n",
    "# Diagnóstico médico autorreferido de depressão - Q014P\n",
    "df_filtered['Q014P'] = np.where(df_filtered['Q092'] == 1, 1, 2)\n",
    "df_filtered['Q014P'] = pd.Categorical(df_filtered['Q014P'], categories=[1, 2], ordered=True, labels=[\"Sim\", \"Não\"])\n",
    "#print(df_filtered['Q014P'].value_counts())\n",
    "\n",
    "# Diagnóstico médico autorreferido de outra doença mental - Q015P\n",
    "df_filtered['Q015P'] = np.where((df_filtered['Q11007'] == 1) | (df_filtered['Q11008'] == 1) | (df_filtered['Q11009'] == 1), 1, 2)\n",
    "df_filtered['Q015P'] = pd.Categorical(df_filtered['Q015P'], categories=[1, 2], ordered=True, labels=[\"Sim\", \"Não\"])\n",
    "#print(df_filtered['Q015P'].value_counts())\n",
    "\n",
    "# Diagnóstico médico autorreferido de doença pulmonar - Q016P\n",
    "df_filtered['Q016P'] = np.where(df_filtered['Q11604'] == 1, 1, 2)\n",
    "df_filtered['Q016P'] = pd.Categorical(df_filtered['Q016P'], categories=[1, 2], ordered=True, labels=[\"Sim\", \"Não\"])\n",
    "#print(df_filtered['Q016P'].value_counts())\n",
    "\n",
    "# Diagnóstico médico autorreferido de câncer - Q017P\n",
    "df_filtered['Q017P'] = np.where(df_filtered['Q120'] == 1, 1, 2)\n",
    "df_filtered['Q017P'] = pd.Categorical(df_filtered['Q017P'], categories=[1, 2], ordered=True, labels=[\"Sim\", \"Não\"])\n",
    "#print(df_filtered['Q017P'].value_counts())\n",
    "\n",
    "# Diagnóstico médico autorreferido de insuficiência renal crônica - Q018P\n",
    "df_filtered['Q018P'] = np.where(df_filtered['Q124'] == 1, 1, 2)\n",
    "df_filtered['Q018P'] = pd.Categorical(df_filtered['Q018P'], categories=[1, 2], ordered=True, labels=[\"Sim\", \"Não\"])\n",
    "#print(df_filtered['Q018P'].value_counts())\n",
    "\n",
    "# Diagnóstico médico autorreferido de pelo menos uma DCNT - Q019P\n",
    "df_filtered['Q019P'] = np.where((df_filtered['Q011P'] == 'Sim') | (df_filtered['Q009P'] == 'Sim') | (df_filtered['Q008P'] == 'Sim') | \n",
    "                                (df_filtered['Q012P'] == 'Sim') | (df_filtered['Q017P'] == 'Sim') | (df_filtered['Q007P'] == 'Sim') | \n",
    "                                (df_filtered['Q014P'] == 'Sim') | (df_filtered['Q004P'] == 'Sim') | (df_filtered['Q013P'] == 'Sim') |\n",
    "                                (df_filtered['Q016P'] == 'Sim') | (df_filtered['Q018P'] == 'Sim'), 1, 2)\n",
    "df_filtered['Q019P'] = pd.Categorical(df_filtered['Q019P'], categories=[1, 2], ordered=True, labels=[\"Sim\", \"Não\"])\n",
    "#print(df_filtered['Q019P'].value_counts())\n",
    "'''"
   ]
  },
  {
   "cell_type": "markdown",
   "id": "3427401a-9d4e-42ca-88e4-07a508239856",
   "metadata": {},
   "source": [
    "- **Estilo de Vida/Alimentação (P-2019)**"
   ]
  },
  {
   "cell_type": "code",
   "execution_count": 63,
   "id": "69d4aa75-eddb-450a-8eea-c6af4b0da0aa",
   "metadata": {},
   "outputs": [],
   "source": [
    "# Indivíduos de 18 anos ou mais que consomem feijão regularmente - P001P\n",
    "df_filtered = df_filtered[df_filtered['P006'] != 9]  # Filtrando\n",
    "df_filtered['P001P'] = df_filtered['P006'].apply(lambda x: 1 if x >= 5 else 2)\n",
    "df_filtered['P001P'] = df_filtered['P001P'].map({1: 'Sim', 2: 'Nao'})\n",
    "# print(df_filtered['P001P'].value_counts())\n",
    "\n",
    "# Indivíduos de 18 anos ou mais com consumo adequado de frutas, legumes e verduras - P002P\n",
    "df_filtered['P002P'] = df_filtered.apply(lambda row: 1 if row['P00901'] >= 5 and row['P018'] >= 5 else 2, axis=1)\n",
    "df_filtered['P002P'] = df_filtered['P002P'].map({1: 'Sim', 2: 'Não'})\n",
    "# print(df_filtered['P002P'].value_counts())\n",
    "\n",
    "# Indivíduos de 18 anos ou mais que consomem peixe pelo menos um dia por semana - P003P\n",
    "df_filtered = df_filtered[df_filtered['P015'] != 9]  # Filtrando\n",
    "df_filtered['P003P'] = df_filtered['P015'].apply(lambda x: 1 if x >= 1 else 2)\n",
    "df_filtered['P003P'] = df_filtered['P003P'].map({1: 'Sim', 2: 'Nao'})\n",
    "# print(df_filtered['P003P'].value_counts())\n",
    "\n",
    "# Indivíduos de 18 anos ou mais que consomem refrigerantes regularmente - P004P\n",
    "df_filtered = df_filtered[df_filtered['P02002'] != 9]  # Filtrando\n",
    "df_filtered['P004P'] = df_filtered['P02002'].apply(lambda x: 1 if x >= 5 else 2)\n",
    "df_filtered['P004P'] = df_filtered['P004P'].map({1: 'Sim', 2: 'Nao'})\n",
    "# print(df_filtered['P004P'].value_counts())\n",
    "\n",
    "# Indivíduos de 18 anos ou mais que consomem alimentos doces regularmente - P005P\n",
    "df_filtered = df_filtered[df_filtered['P02501'] != 9]  # Filtrando\n",
    "df_filtered['P005P'] = df_filtered['P02501'].apply(lambda x: 1 if x >= 5 else 2)\n",
    "df_filtered['P005P'] = df_filtered['P005P'].map({1: 'Sim', 2: 'Nao'})\n",
    "# print(df_filtered['P005P'].value_counts())\n",
    "\n",
    "# Indivíduos de 18 anos ou mais que substituem o almoço por sanduiches, salgados ou pizzas regularmente - P006P\n",
    "df_filtered = df_filtered[df_filtered['P02602'] != 9]  # Filtrando\n",
    "df_filtered['P006P'] = df_filtered['P02602'].apply(lambda x: 1 if x >= 5 else 2)\n",
    "df_filtered['P006P'] = df_filtered['P006P'].map({1: 'Sim', 2: 'Nao'})\n",
    "# print(df_filtered['P006P'].value_counts())\n",
    "\n",
    "# Indivíduos de 18 anos ou mais que referem consumo elevado de sal - P007P\n",
    "df_filtered['P007P'] = df_filtered['P02601'].apply(lambda x: 1 if x in [1, 2] else 2)\n",
    "df_filtered['P007P'] = df_filtered['P007P'].map({1: 'Sim', 2: 'Nao'})\n",
    "# print(df_filtered['P007P'].value_counts())\n",
    "\n",
    "# Consumo de alguma hortaliça no dia anterior à pesquisa - P030P\n",
    "df_filtered['P030P'] = df_filtered.apply(lambda row: 1 if row['P00607'] == 1 or row['P00608'] == 1 or row['P00609'] == 1 else (2 if row['P00607'] == 2 and row['P00608'] == 2 and row['P00609'] == 2 else 2), axis=1)\n",
    "df_filtered['P030P'] = df_filtered['P030P'].map({1: 'Sim', 2: 'Não'})\n",
    "# print(df_filtered['P030P'].value_counts())\n",
    "\n",
    "# Consumo de pelo menos uma fruta no dia anterior à pesquisa - P031P\n",
    "df_filtered['P031P'] = df_filtered.apply(lambda row: 1 if row['P00610'] == 1 or row['P00611'] == 1 else (2 if row['P00610'] == 2 and row['P00611'] == 2 else 2), axis=1)\n",
    "df_filtered['P031P'] = df_filtered['P031P'].map({1: 'Sim', 2: 'Não'})\n",
    "# print(df_filtered['P031P'].value_counts())\n",
    "\n",
    "# Não consumiu alimento ultraprocessado no dia anterior à pesquisa - P032P \n",
    "df_filtered['P032P'] = df_filtered.apply(lambda row: 2 if any(row[f'P006{i}'] == 1 for i in range(14, 24)) else (1 if all(row[f'P006{i}'] == 2 for i in range(14, 24)) else 1), axis=1)\n",
    "df_filtered['P032P'] = df_filtered['P032P'].map({1: 'Sim', 2: 'Não'})\n",
    "# print(df_filtered['P032P'].value_counts())"
   ]
  },
  {
   "cell_type": "markdown",
   "id": "e2249f4c-5bf4-4392-9678-176e26d8480c",
   "metadata": {},
   "source": [
    "- **Estilo de Vida/Prática de Atividade Física (P-2019)**"
   ]
  },
  {
   "cell_type": "code",
   "execution_count": 64,
   "id": "1cfaea69-6cd9-40ab-80d1-970f2ba3beaf",
   "metadata": {},
   "outputs": [],
   "source": [
    "# P017P - Tempo de televisão de 3h ou mais por dia\n",
    "# Substituir valores NA por 0 na coluna P04501\n",
    "# df_filtered['P04501'] = df_filtered['P04501'].fillna(0)\n",
    "\n",
    "# Filtrar e criar a nova coluna P017P\n",
    "df_filtered = df_filtered[df_filtered['P04501'] != 9]\n",
    "df_filtered['P017P'] = df_filtered['P04501'].apply(lambda x: 1 if x in [4, 5] else 2)\n",
    "df_filtered['P017P'] = df_filtered['P017P'].map({1: 'Sim', 2: 'Nao'}) # Mapeando os valores para fatores\n",
    "#print(df_filtered['P017P'].value_counts())\n",
    "\n",
    "\n",
    "# P018P - Uso de telas (computador, celular ou tablets) por 3h ou mais no tempo livre\n",
    "# Substituir valores NA por 0 na coluna P04502\n",
    "df_filtered['P04502'] = df_filtered['P04502'].fillna(0)\n",
    "\n",
    "# Filtrar e criar a nova coluna P018P\n",
    "df_filtered = df_filtered[df_filtered['P04502'] != 9]\n",
    "df_filtered['P018P'] = df_filtered['P04502'].apply(lambda x: 1 if x in [4, 5] else 2)\n",
    "df_filtered['P018P'] = df_filtered['P018P'].map({1: 'Sim', 2: 'Nao'}) # Mapeando os valores para fatores\n",
    "#print(df_filtered['P018P'].value_counts())"
   ]
  },
  {
   "cell_type": "markdown",
   "id": "d7707a4e-8266-4bbf-b6b2-eb041d69bd8b",
   "metadata": {},
   "source": [
    "- **Antropometria (W-2019)**"
   ]
  },
  {
   "cell_type": "code",
   "execution_count": 65,
   "id": "90ff842a-b0e3-4687-91c5-cd4e8bd35386",
   "metadata": {},
   "outputs": [],
   "source": [
    "# Cálculo da altura em metros\n",
    "df_filtered['altura_metro'] = df_filtered['W00203'] / 100\n",
    "\n",
    "# Cálculo do IMC\n",
    "df_filtered['IMC'] = df_filtered['W00103'] / (df_filtered['altura_metro'] ** 2)\n",
    "\n",
    "# Excesso de peso - W001P\n",
    "df_filtered['W001P'] = df_filtered['IMC'].apply(lambda x: 1 if x >= 25 else 2)\n",
    "\n",
    "# Mapeando os valores para fatores\n",
    "# df_filtered['W001P'] = df_filtered['W001P'].map({1: 'Sim', 2: 'Não'})\n",
    "#print(df_filtered['W001P'].value_counts())\n",
    "\n",
    "# Obesidade - W002P\n",
    "df_filtered['W002P'] = df_filtered['IMC'].apply(lambda x: 1 if x >= 30 else 2)\n",
    "# df_filtered['W002P'] = df_filtered['W002P'].map({1: 'Sim', 2: 'Não'}) # Mapeando os valores para fatores\n",
    "#print(df_filtered['W002P'].value_counts())"
   ]
  },
  {
   "cell_type": "markdown",
   "id": "cce778ff-d901-4784-8ee6-4869384d366f",
   "metadata": {},
   "source": [
    " - **Utilização de Serviços de Saúde (J-2019)**"
   ]
  },
  {
   "cell_type": "code",
   "execution_count": 66,
   "id": "6186923d-1f9d-454e-8a89-9cf1a6dd50ee",
   "metadata": {},
   "outputs": [],
   "source": [
    "# Consulta médica nos últimos 12 meses - J001P\n",
    "df_filtered['J001P'] = df_filtered['J01101'].apply(lambda x: 1 if x == 1 else 2)\n",
    "df_filtered['J001P'] = df_filtered['J001P'].map({1: 'Sim', 2: 'Não'})\n",
    "\n",
    "# Consulta odontológica nos últimos 12 meses - J002P\n",
    "df_filtered['J002P'] = df_filtered['J01301'].apply(lambda x: 1 if x == 1 else 2)\n",
    "df_filtered['J002P'] = df_filtered['J002P'].map({1: 'Sim', 2: 'Não'})\n",
    "#print(df_filtered['J002P'].value_counts())\n",
    "\n",
    "# Procura por atendimento de saúde nas últimas duas semanas - J003P\n",
    "df_filtered['J003P'] = df_filtered['J014'].apply(lambda x: 1 if x == 1 else 2)\n",
    "df_filtered['J003P'] = df_filtered['J003P'].map({1: 'Sim', 2: 'Não'})\n",
    "#print(df_filtered['J003P'].value_counts())\n",
    "\n",
    "# Fonte usual de cuidados - J004P\n",
    "df_filtered['J004P'] = df_filtered['J009'].apply(lambda x: 1 if x == 1 else 2)\n",
    "df_filtered['J004P'] = df_filtered['J004P'].map({1: 'Sim', 2: 'Não'})\n",
    "#print(df_filtered['J004P'].value_counts())\n",
    "\n",
    "# Internação hospitalar por 24h ou mais nos últimos 12 meses - J005P\n",
    "df_filtered['J005P'] = df_filtered['J037'].apply(lambda x: 1 if x == 1 else 2)\n",
    "df_filtered['J005P'] = df_filtered['J005P'].map({1: 'Sim', 2: 'Não'})\n",
    "#print(df_filtered['J005P'].value_counts())\n",
    "\n",
    "# Utilização de alguma prática integrativa e complementar nos últimos 12 meses - J011P\n",
    "df_filtered['J011P'] = df_filtered['J05301'].apply(lambda x: 1 if x == 1 else 2)\n",
    "df_filtered['J011P'] = df_filtered['J011P'].map({1: 'Sim', 2: 'Não'})\n",
    "#print(df_filtered['J011P'].value_counts())"
   ]
  },
  {
   "cell_type": "markdown",
   "id": "38125fbe-9866-4df7-ba4a-342136d0d9eb",
   "metadata": {},
   "source": [
    "- **Percepção do Estado de Saúde (N-2019)**"
   ]
  },
  {
   "cell_type": "code",
   "execution_count": 67,
   "id": "6ee5eff1-f6ac-4004-b90d-540069325204",
   "metadata": {},
   "outputs": [],
   "source": [
    "# Autoavaliação de saúde boa ou muito boa - N001P\n",
    "df_filtered['N001P'] = df_filtered['N001'].apply(lambda x: 1 if x in [1, 2] else 2)\n",
    "df_filtered['N001P'] = df_filtered['N001P'].map({1: 'Sim', 2: 'Não'})\n",
    "# print(df_filtered['N001P'].value_counts())\n",
    "\n",
    "# Autoavaliação de saúde ruim ou muito ruim - N002P\n",
    "df_filtered['N002P'] = df_filtered['N001'].apply(lambda x: 1 if x in [4, 5] else 2)\n",
    "df_filtered['N002P'] = df_filtered['N002P'].map({1: 'Sim', 2: 'Não'})\n",
    "# print(df_filtered['N002P'].value_counts())"
   ]
  },
  {
   "cell_type": "markdown",
   "id": "87d302be-4e58-4bf3-b624-901af9cb8530",
   "metadata": {},
   "source": [
    "- **Cobertura de Plano de Saúde (I-2019)**"
   ]
  },
  {
   "cell_type": "code",
   "execution_count": 68,
   "id": "abdd639f-0cba-4afa-9793-c7a3e952ce77",
   "metadata": {},
   "outputs": [],
   "source": [
    "# Posse de plano de saúde médico ou odontológico particular - I001P\n",
    "df_filtered['I001P'] = df_filtered.apply(\n",
    "    lambda row: 2 if (row['I00101'] == 2 and row['I00102'] == 2) \n",
    "                  else (1 if (row['I00101'] == 1 or row['I00102'] == 1) else 2), axis=1\n",
    ")\n",
    "df_filtered['I001P'] = df_filtered['I001P'].map({1: 'Sim', 2: 'Não'})\n",
    "# print(df_filtered['I001P'].value_counts())\n",
    "\n",
    "# Posse de plano de saúde médico particular - I002P\n",
    "df_filtered['I002P'] = df_filtered['I00102'].apply(lambda x: 1 if x == 1 else 0)\n",
    "df_filtered['I002P'] = df_filtered['I002P'].map({1: 'Sim', 0: 'Não'})\n",
    "# print(df_filtered['I002P'].value_counts())\n",
    "\n",
    "# Posse de plano de saúde odontológico particular - I003P\n",
    "df_filtered['I003P'] = df_filtered['I00101'].apply(lambda x: 1 if x == 1 else 0)\n",
    "df_filtered['I003P'] = df_filtered['I003P'].map({1: 'Sim', 0: 'Não'})\n",
    "# print(df_filtered['I003P'].value_counts())"
   ]
  },
  {
   "cell_type": "markdown",
   "id": "9d325110-9628-4548-a9bb-67764d473ced",
   "metadata": {},
   "source": [
    "- **Estilo de Vida/Consumo de Álcool (P-2019)** <br>"
   ]
  },
  {
   "cell_type": "code",
   "execution_count": 69,
   "id": "215c2c0d-0e77-40c7-8382-b3d185fbabec",
   "metadata": {},
   "outputs": [],
   "source": [
    "# P010P - Consumo de bebida alcoólica uma vez ou mais por semana\n",
    "# df_filtered['P02801'] = df_filtered['P02801'].fillna(0)  # Substituindo valores NA por 0\n",
    "df_filtered = df_filtered[df_filtered['P02801'] != 9]  # Filtrando registros com P02801 igual a 9\n",
    "df_filtered['P010P'] = df_filtered['P02801'].apply(lambda x: 1 if x >= 1 else 2)  # Definindo P010P\n",
    "df_filtered['P010P'] = df_filtered['P010P'].map({1: 'Sim', 2: 'Não'})  # Mapeando para 'Sim' e 'Não'\n",
    "# print(df_filtered['P010P'].value_counts())  # Resumo\n",
    "\n",
    "# P011P - Consumo regular de bebida alcoólica\n",
    "# df_filtered['P02801'] = df_filtered['P02801'].fillna(0)  # Substituindo valores NA por 0\n",
    "df_filtered = df_filtered[df_filtered['P02801'] != 9]  # Filtrando registros com P02801 igual a 9\n",
    "df_filtered['P011P'] = df_filtered['P02801'].apply(lambda x: 1 if x >= 5 else 2)  # Definindo P011P\n",
    "df_filtered['P011P'] = df_filtered['P011P'].map({1: 'Sim', 2: 'Não'})  # Mapeando para 'Sim' e 'Não'\n",
    "# print(df_filtered['P011P'].value_counts())  # Resumo\n",
    "\n",
    "# P012P - Consumo abusivo de álcool nos últimos 30 dias\n",
    "# df_filtered['P03201'] = df_filtered['P03201'].fillna(0)  # Substituindo valores NA por 0\n",
    "df_filtered = df_filtered[df_filtered['P03201'] != 9]  # Filtrando registros com P03201 igual a 9\n",
    "df_filtered['P012P'] = df_filtered['P03201'].apply(lambda x: 1 if x == 1 else 2)  # Definindo P012P\n",
    "df_filtered['P012P'] = df_filtered['P012P'].map({1: 'Sim', 2: 'Não'})  # Mapeando para 'Sim' e 'Não'\n",
    "# print(df_filtered['P012P'].value_counts())  # Resumo\n",
    "\n",
    "# P013P - Dirigir automóvel ou motocicleta logo depois de beber nos últimos 12 meses\n",
    "# df_filtered['P03001'] = df_filtered['P03001'].fillna(0)  # Substituindo valores NA por 0\n",
    "df_filtered = df_filtered[(df_filtered['P03001'] != 9) | (df_filtered['P03001'] > 0)]  # Filtrando\n",
    "df_filtered['P013P'] = df_filtered['P03001'].apply(lambda x: 1 if x == 1 else 2)  # Definindo P013P\n",
    "df_filtered['P013P'] = df_filtered['P013P'].map({1: 'Sim', 2: 'Não'})  # Mapeando para 'Sim' e 'Não'\n",
    "# print(df_filtered['P013P'].value_counts())  # Resumo"
   ]
  },
  {
   "cell_type": "markdown",
   "id": "ff82a7ed-58b6-4fd4-b6bf-56b7c80806a5",
   "metadata": {},
   "source": [
    "- **Acidentes (O-2019)** <br>"
   ]
  },
  {
   "cell_type": "code",
   "execution_count": 70,
   "id": "b3c4a749-665f-47d5-95ec-1d18622300ad",
   "metadata": {},
   "outputs": [],
   "source": [
    "# Usa sempre cinto quando anda no banco de trás de automóvel. - O002P\n",
    "df_filtered['O002P'] = df_filtered['O00501'].apply(lambda x: None if x == 1 else (1 if x == 2 else 2))\n",
    "df_filtered['O002P'] = df_filtered['O002P'].map({1: 'Sim', 2: 'Não'})  # Mapeando para 'Sim' e 'Não'\n",
    "# print(df_filtered['O002P'].value_counts())  # Resumo\n",
    "\n",
    "# Usa sempre capacete quando dirige motocicleta. - O003P\n",
    "df_filtered['O003P'] = df_filtered['O00701'].apply(lambda x: 1 if x == 1 else 2)\n",
    "df_filtered['O003P'] = df_filtered['O003P'].map({1: 'Sim', 2: 'Não'})  # Mapeando para 'Sim' e 'Não'\n",
    "# print(df_filtered['O003P'].value_counts())  # Resumo\n",
    "\n",
    "# Usa sempre capacete quando está como passageiro de motocicleta. - O004P\n",
    "df_filtered['O004P'] = df_filtered['O00801'].apply(lambda x: None if x == 1 else (1 if x == 2 else 2))\n",
    "df_filtered['O004P'] = df_filtered['O004P'].map({1: 'Sim', 2: 'Não'})  # Mapeando para 'Sim' e 'Não'\n",
    "# print(df_filtered['O004P'].value_counts())  # Resumo\n",
    "\n",
    "# Usa sempre capacete quando está como passageiro de motocicleta. - O005P\n",
    "# Condição: Se O00101 ou O00201 é 1, O005P é 2. Depois, O005P é atualizado com base em O00802.\n",
    "df_filtered['O005P'] = df_filtered.apply(lambda row: 2 if (row['O00101'] == 1 or row['O00201'] == 1) else (1 if row['O00802'] <= 4 else 2), axis=1)\n",
    "df_filtered['O005P'] = df_filtered['O005P'].map({1: 'Sim', 2: 'Não'})  # Mapeando para 'Sim' e 'Não'\n",
    "# print(df_filtered['O005P'].value_counts())  # Resumo\n",
    "\n",
    "# Usa sempre capacete quando está como passageiro de motocicleta. - O006P\n",
    "df_filtered['O006P'] = df_filtered['O009'].apply(lambda x: 1 if x == 1 else (2 if x == 2 else 2))\n",
    "df_filtered['O006P'] = df_filtered['O006P'].map({1: 'Sim', 2: 'Não'})  # Mapeando para 'Sim' e 'Não'\n",
    "# print(df_filtered['O006P'].value_counts())  # Resumo\n",
    "\n",
    "# Usa sempre cinto quando dirige. - O007P\n",
    "df_filtered['O007P'] = df_filtered.apply(lambda row: 1 if row['O00401'] == 1 else (2 if row['O00101'] == 2 else 2), axis=1)\n",
    "df_filtered['O007P'] = df_filtered['O007P'].map({1: 'Sim', 2: 'Não'})  # Mapeando para 'Sim' e 'Não'\n",
    "# print(df_filtered['O007P'].value_counts())  # Resumo\n",
    "\n",
    "# Usa sempre cinto quando anda na frente como passageiro. - O008P\n",
    "df_filtered['O008P'] = df_filtered['O00402'].apply(lambda x: 1 if x == 2 else (2 if x >= 2 else 2))\n",
    "df_filtered['O008P'] = df_filtered['O008P'].map({1: 'Sim', 2: 'Não'})  # Mapeando para 'Sim' e 'Não'\n",
    "# print(df_filtered['O008P'].value_counts())  # Resumo"
   ]
  },
  {
   "cell_type": "markdown",
   "id": "cca01495-2c1e-4445-a9cb-465e97a32976",
   "metadata": {},
   "source": [
    "- **Violências (V-2019)** <br>"
   ]
  },
  {
   "cell_type": "code",
   "execution_count": 71,
   "id": "cfa318c6-fe6a-4751-ad1f-5b1b89e0ec3f",
   "metadata": {},
   "outputs": [],
   "source": [
    "# Algum tipo de violência nos últimos 12 meses anteriores à pesquisa. - V001P\n",
    "df_filtered['V001P'] = df_filtered.apply(\n",
    "    lambda row: 1 if any(row[x] == 1 for x in ['V00201', 'V00202', 'V00203', 'V00204', 'V00205',\n",
    "                                                  'V01401', 'V01402', 'V01403', 'V01404', 'V01405',\n",
    "                                                  'V02701', 'V02702']) else 2, axis=1\n",
    ")\n",
    "df_filtered['V001P'] = df_filtered['V001P'].map({1: 'Sim', 2: 'Não'})  # Mapeando para 'Sim' e 'Não'\n",
    "# print(df_filtered['V001P'].value_counts())  # Resumo\n",
    "\n",
    "# Violência verbal nos últimos 12 meses anteriores à pesquisa. - V002P\n",
    "df_filtered['V002P'] = df_filtered.apply(\n",
    "    lambda row: 1 if any(row[x] == 1 for x in ['V00201', 'V00202', 'V00203', 'V00204', 'V00205']) \n",
    "    else (2 if all(row[x] >= 1 for x in ['V00201', 'V00202', 'V00203', 'V00204', 'V00205']) else 2), axis=1\n",
    ")\n",
    "df_filtered['V002P'] = df_filtered['V002P'].map({1: 'Sim', 2: 'Não'})  # Mapeando para 'Sim' e 'Não'\n",
    "# print(df_filtered['V002P'].value_counts())  # Resumo\n",
    "\n",
    "# Violência física nos últimos 12 meses anteriores à pesquisa. - V003P\n",
    "df_filtered['V003P'] = df_filtered.apply(\n",
    "    lambda row: 1 if any(row[x] == 1 for x in ['V01401', 'V01402', 'V01403', 'V01404', 'V01405']) \n",
    "    else (2 if all(row[x] >= 1 for x in ['V01401', 'V01402', 'V01403', 'V01404', 'V01405']) else 2), axis=1\n",
    ")\n",
    "df_filtered['V003P'] = df_filtered['V003P'].map({1: 'Sim', 2: 'Não'})  # Mapeando para 'Sim' e 'Não'\n",
    "#print(df_filtered['V003P'].value_counts())  # Resumo\n",
    "\n",
    "# Violência sexual alguma vez na vida. - V005P\n",
    "df_filtered['V005P'] = df_filtered.apply(\n",
    "    lambda row: 1 if any(row[x] == 1 for x in ['V02801', 'V02802', 'V02701', 'V02702']) \n",
    "    else (2 if all(row[x] >= 1 for x in ['V01401', 'V01402', 'V01403', 'V01404', 'V01405']) else 2), axis=1\n",
    ")\n",
    "df_filtered['V005P'] = df_filtered['V005P'].map({1: 'Sim', 2: 'Não'})  # Mapeando para 'Sim' e 'Não'\n",
    "#print(df_filtered['V005P'].value_counts())  # Resumo"
   ]
  },
  {
   "cell_type": "markdown",
   "id": "2a5eaf05-c7f1-4e89-86e3-1b80dd80fd0a",
   "metadata": {},
   "source": [
    "## Mostrando df_filtered após as alterações acima\n",
    "\n",
    "!!! tem que tirar NaN ainda e (obvio) mudar o nome das colunas (tive dificuldade TT) "
   ]
  },
  {
   "cell_type": "code",
   "execution_count": 79,
   "id": "c228d2ca-8882-4787-b24c-65bd2a28e2d7",
   "metadata": {},
   "outputs": [
    {
     "name": "stdout",
     "output_type": "stream",
     "text": [
      "['Estado', 'V0024', 'UPA_PNS', 'V0006_PNS', 'V0015', 'V0020', 'V0022', 'Sit_Urbano_Rural', 'V0031', 'V0025A', 'V0025B', 'A001', 'A002010', 'A003010', 'A004010', 'A01001', 'A011', 'A005010', 'A005012', 'A00601', 'A009010', 'A01401', 'A01402', 'A01403', 'A01501', 'A016010', 'A018011', 'A018012', 'A018013', 'A018014', 'A018015', 'A018016', 'A018017', 'A018018', 'A018019', 'A018020', 'A018021', 'A018022', 'A018023', 'A018024', 'A018025', 'A018026', 'A018027', 'A018028', 'A01901', 'A02101', 'A02102', 'A02201', 'A02305', 'A02306', 'A02307', 'A02308', 'A02401', 'A02402', 'B001', 'B002', 'B003', 'B004', 'C001', 'C00301', 'C004', 'Sexo', 'C00701', 'C00702', 'C00703', 'Faixa_idade', 'Raca', 'C01001', 'C010010', 'C013', 'C014', 'C015', 'C016', 'C017', 'C018', 'C01801', 'C011', 'C012', 'D001', 'D00201', 'D00202', 'D00301', 'D00501', 'D006', 'D00601', 'D007', 'D008', 'D00901', 'D010', 'D01101', 'D01201', 'D01301', 'D01302', 'D01303', 'D014', 'D015', 'E001', 'E002', 'E003', 'E004', 'E005', 'E006011', 'E008', 'E010010', 'E010011', 'E010012', 'E010013', 'E011', 'E01201', 'E01401', 'E014011', 'E01402', 'E01403', 'E01501', 'E01601', 'E01602', 'E01603', 'E01604', 'E01605', 'E017', 'E01801', 'E01802', 'E01803', 'E01804', 'E01805', 'E019', 'E022', 'E023011', 'E024011', 'E02402', 'E024021', 'E025', 'E02501', 'E02502', 'E02503', 'E026', 'E02601', 'E02801', 'E02802', 'E02803', 'E02804', 'E02805', 'E02806', 'E030', 'E03101', 'E03102', 'E03103', 'E03104', 'E03105', 'E03106', 'E03107', 'E03108', 'E032', 'E033', 'E027', 'F001011', 'F001021', 'F007011', 'F007021', 'F008011', 'F008021', 'VDF001', 'VDF00102', 'F016', 'I00101', 'I00102', 'I001021', 'I00103', 'I001031', 'I005', 'I006', 'I004', 'I00401', 'I00402', 'I00403', 'I00404', 'I010010', 'I012', 'J001', 'J00101', 'J002', 'J003', 'J00402', 'J00404', 'J005', 'J006', 'J007', 'J00801', 'J009', 'J01002', 'J01101', 'J012', 'J01301', 'J014', 'J01502', 'J01602', 'J01701', 'J01802', 'J019', 'J02002', 'J021', 'J022010', 'J023', 'J024', 'J025', 'J026', 'J02702', 'J02901', 'J03001', 'J03102', 'J032', 'J03301', 'J034', 'J035', 'J03602', 'J037', 'J038', 'J039', 'J04001', 'J04002', 'J041', 'J042', 'J043', 'J044', 'J046', 'J047', 'J048', 'J049', 'J051', 'J052', 'J05301', 'J05402', 'J05403', 'J05404', 'J05405', 'J05406', 'J05407', 'J05408', 'J05409', 'J054010', 'J056', 'J057', 'J060', 'L01701', 'L01702', 'L01703', 'L01704', 'L01705', 'L01706', 'L01707', 'L01708', 'L01709', 'L01710', 'L01711', 'L01712', 'L01713', 'L01714', 'L01715', 'L01716', 'L018', 'L019', 'L021', 'L022', 'L023', 'L024', 'L025', 'L026', 'L027', 'L028', 'L029', 'L030', 'L031', 'L032', 'L033', 'L034', 'L035', 'L036', 'L037', 'L038', 'L039', 'L040', 'L042', 'M001', 'M002', 'M00203', 'M00302', 'M00303', 'M00401', 'M00402', 'M005010', 'M005011', 'M00601', 'M007', 'M008', 'M009', 'M01001', 'M011011', 'M011021', 'M011031', 'M011041', 'M011051', 'M011061', 'M011071', 'M01401', 'M01501', 'M01601', 'M01701', 'M01801', 'M01901', 'N001', 'N00101', 'N004', 'N005', 'N006', 'N00701', 'N008', 'N010', 'N011', 'N012', 'N013', 'N014', 'N015', 'N016', 'N017', 'N018', 'O00101', 'O00401', 'O00402', 'O00501', 'O00201', 'O00701', 'O00801', 'O00802', 'O00803', 'O009', 'O00901', 'O010', 'O01102', 'O01401', 'O01501', 'O01602', 'O01702', 'O019', 'O02001', 'O021', 'O02101', 'O02201', 'O023', 'O02401', 'P00102', 'P00103', 'P00104', 'P00201', 'P00402', 'P00403', 'P00404', 'P00405', 'P005', 'P00601', 'P00602', 'P00603', 'P00604', 'P00605', 'P00607', 'P00608', 'P00609', 'P00610', 'P00611', 'P00612', 'P00613', 'P00614', 'P00615', 'P00616', 'P00617', 'P00618', 'P00619', 'P00620', 'P00621', 'P00622', 'P00623', 'P006', 'P00901', 'P01001', 'P01101', 'P013', 'P015', 'P02001', 'P02101', 'P01601', 'P018', 'P019', 'P02002', 'P02102', 'P023', 'P02401', 'P02501', 'P02602', 'P02601', 'P027', 'P02801', 'P029', 'P03201', 'P03202', 'P03001', 'P03301', 'P03302', 'P03303', 'P034', 'P035', 'P03701', 'P03702', 'P036', 'P038', 'P039', 'P03904', 'P03905', 'P03906', 'P040', 'P04001', 'P04101', 'P04102', 'P042', 'P04301', 'P04302', 'P044', 'P04401', 'P04405', 'P04406', 'P04501', 'P04502', 'P046', 'P04701', 'P04801', 'P04902', 'P050', 'P051', 'P052', 'P053', 'P05401', 'P05402', 'P05403', 'P05404', 'P05405', 'P05406', 'P05407', 'P05408', 'P05409', 'P05410', 'P05411', 'P05412', 'P05413', 'P05414', 'P05415', 'P05416', 'P05417', 'P05418', 'P05419', 'P05421', 'P05422', 'P055', 'P056', 'P05601', 'P05602', 'P05603', 'P05604', 'P05605', 'P057', 'P058', 'P05801', 'P05802', 'P05901', 'P05902', 'P05903', 'P05904', 'P05905', 'P05906', 'P060', 'P06101', 'P06102', 'P06103', 'P06104', 'P06105', 'P06106', 'P06302', 'P067', 'P06701', 'P068', 'P069', 'P06901', 'P07004', 'P07005', 'P07006', 'P07007', 'P07101', 'P07201', 'V001', 'V00101', 'V00201', 'V00202', 'V00203', 'V00204', 'V00205', 'V003', 'V006', 'V007', 'V01401', 'V01402', 'V01403', 'V01404', 'V01405', 'V015', 'V018', 'V019', 'V02701', 'V02702', 'V02801', 'V02802', 'V029', 'V032', 'V033', 'V034', 'V03501', 'V03502', 'V03503', 'V036', 'V037', 'V038', 'V039', 'T001', 'T002', 'T003', 'T004', 'T005', 'T00601', 'T00602', 'T00603', 'T00604', 'T00605', 'T00606', 'Y001', 'Y00101', 'Y002', 'Y003', 'Y004', 'Y005', 'Y006', 'Y007', 'H001', 'H002', 'H003', 'H004', 'H005', 'H006', 'H007', 'H008', 'H009', 'H010', 'H011', 'H012', 'H013', 'H014', 'H015', 'H016', 'H017', 'H018', 'H019', 'H020', 'H021', 'H022', 'H023', 'H024', 'H025', 'H026', 'H027', 'H028', 'H029', 'H030', 'W001', 'W00101', 'W00102', 'W00103', 'W00201', 'W00202', 'W00203', 'V0028', 'V0029', 'V0030', 'V00281', 'V00291', 'V00301', 'V00282', 'V00292', 'V00302', 'V00283', 'V00293', 'V00303', 'VDC001', 'VDC003', 'Escolaridade', 'VDE001', 'VDE002', 'VDE014', 'VDF002', 'VDF003', 'Rend_per_capita', 'VDL001', 'VDM001', 'VDP001', 'VDR001', 'VDDATA', 'peso_morador_selec', 'GrandesRegioes', 'Capital', 'P001P', 'P002P', 'P003P', 'P004P', 'P005P', 'P006P', 'P007P', 'P030P', 'P031P', 'P032P', 'P017P', 'P018P', 'altura_metro', 'IMC', 'W001P', 'W002P', 'J001P', 'J002P', 'J003P', 'J004P', 'J005P', 'J011P', 'N001P', 'N002P', 'I001P', 'I002P', 'I003P', 'P010P', 'P011P', 'P012P', 'P013P', 'O002P', 'O003P', 'O004P', 'O005P', 'O006P', 'O007P', 'O008P', 'V001P', 'V002P', 'V003P', 'V005P']\n"
     ]
    }
   ],
   "source": [
    "# colunas do df_filtrado\n",
    "print(df_filtered.columns.tolist())"
   ]
  },
  {
   "cell_type": "code",
   "execution_count": 80,
   "id": "1d6885bb-0251-4401-a0db-0ab7886b97f8",
   "metadata": {},
   "outputs": [
    {
     "name": "stdout",
     "output_type": "stream",
     "text": [
      "    Estado    V0024    UPA_PNS  V0006_PNS  V0015  V0020  V0022  \\\n",
      "0       11  1110011  110000016          1      1   2019    6.0   \n",
      "9       11  1110011  110000016          2      1   2019    4.0   \n",
      "10      11  1110011  110000016          3      1   2019    8.0   \n",
      "18      11  1110011  110000016          4      1   2019    1.0   \n",
      "19      11  1110011  110000016          5      1   2019    2.0   \n",
      "\n",
      "    Sit_Urbano_Rural  V0031  V0025A  ...  O003P  O004P  O005P  O006P  O007P  \\\n",
      "0                  1      1     1.0  ...    Não    NaN    Não    Não    Não   \n",
      "9                  1      1     1.0  ...    Sim    Sim    Não    Não    Não   \n",
      "10                 1      1     1.0  ...    Não    Sim    Não    Não    Não   \n",
      "18                 1      1     1.0  ...    Não    Sim    Não    Não    Não   \n",
      "19                 1      1     1.0  ...    Sim    Sim    Não    Não    Não   \n",
      "\n",
      "    O008P  V001P  V002P  V003P  V005P  \n",
      "0     Sim    Não    Não    Não    Não  \n",
      "9     Sim    Não    Não    Não    Não  \n",
      "10    Sim    Não    Não    Não    Não  \n",
      "18    Sim    Não    Não    Não    Não  \n",
      "19    Sim    Não    Não    Não    Não  \n",
      "\n",
      "[5 rows x 655 columns]\n"
     ]
    }
   ],
   "source": [
    "# Exibir as primeiras 5 linhas do dataset\n",
    "print(df_filtered.head())"
   ]
  },
  {
   "cell_type": "code",
   "execution_count": 81,
   "id": "93b11b47-c025-4a63-b399-8fc9823af0ad",
   "metadata": {},
   "outputs": [
    {
     "name": "stdout",
     "output_type": "stream",
     "text": [
      "<class 'pandas.core.frame.DataFrame'>\n",
      "Index: 90846 entries, 0 to 293720\n",
      "Columns: 655 entries, Estado to V005P\n",
      "dtypes: float64(604), int64(11), object(40)\n",
      "memory usage: 454.7+ MB\n"
     ]
    }
   ],
   "source": [
    "# Exibir informações gerais sobre o dataset\n",
    "df_filtered.info()"
   ]
  },
  {
   "cell_type": "code",
   "execution_count": null,
   "id": "3018b732-217a-4f31-b51d-bf82d5b29498",
   "metadata": {},
   "outputs": [],
   "source": []
  }
 ],
 "metadata": {
  "kernelspec": {
   "display_name": "Python 3 (ipykernel)",
   "language": "python",
   "name": "python3"
  },
  "language_info": {
   "codemirror_mode": {
    "name": "ipython",
    "version": 3
   },
   "file_extension": ".py",
   "mimetype": "text/x-python",
   "name": "python",
   "nbconvert_exporter": "python",
   "pygments_lexer": "ipython3",
   "version": "3.11.7"
  }
 },
 "nbformat": 4,
 "nbformat_minor": 5
}
