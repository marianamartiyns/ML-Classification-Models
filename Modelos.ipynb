{
 "cells": [
  {
   "cell_type": "markdown",
   "id": "d8127ae1-bdbc-4128-984e-acf097add040",
   "metadata": {},
   "source": [
    "--- \n",
    "## Projeto Final - Aprendizagem de Máquina\n",
    "\n",
    "- Felipe Siqueira e Mariana Martins\n",
    "\n",
    "---- "
   ]
  },
  {
   "cell_type": "markdown",
   "id": "fc52109c-3a85-474f-8a56-089c5ae1435a",
   "metadata": {},
   "source": [
    "## Dataset\n",
    "\n",
    "[Link para o dataset](https://www.pns.icict.fiocruz.br/painel-de-indicadores-mobile-desktop/)\n",
    "\n",
    "**Módulos usados:**\n",
    "\n",
    "- **Estilo de Vida/Alimentação (P-2019)**\n",
    "- **Estilo de Vida/Prática de Atividade Física (P-2019)**\n",
    "- **Antropometria (W-2019)**\n",
    "- **Utilização de Serviços de Saúde (J-2019)**\n",
    "- **Percepção do Estado de Saúde (N-2019)**\n",
    "- **Cobertura de Plano de Saúde (I-2019)**\n",
    "- **Estilo de Vida/Consumo de Álcool (P-2019)** <br>\n",
    "- **Acidentes (O-2019)** <br>\n",
    "- **Violências (V-2019)** <br>\n",
    "\n",
    "!! Essas definições foram feitas antes do 'Doenças Crônicas' travar meu not"
   ]
  },
  {
   "cell_type": "markdown",
   "id": "2826272a-ceb9-4b28-a078-07a93c99d7a8",
   "metadata": {},
   "source": [
    "## Rede Neural\n",
    "\n",
    "Doenças Crônicas + Estilo de Vida (Alimentação, Atividade Física) + Antropometria + Utilização de Serviços. <br>\n",
    "Podemos usar as colunas acima para **prever doenças crônicas (classificação/regressão)**."
   ]
  },
  {
   "cell_type": "markdown",
   "id": "a2661378-60af-4530-b0be-1291194cd0c4",
   "metadata": {},
   "source": [
    "### Anotações do Slide de Redes Neurais:\r\n",
    "\r\n",
    "- **Regressão Logística**: A função alvo corresponde à distribuição de probabilidade que gerou os dados do problema.\r\n",
    "- **Métrica de Erro**: Baseada no conceito de verossimilhança.\r\n",
    "- **Gradiente Descendente**: Busca-se a solução ótima seguindo uma direção de descida mais forte por meio de um processo iterativo.\r\n",
    "- **Função de Ativação**: Em redes neurais, são usadas funções contínuas e diferenciáveis.\r\n",
    "- **Algoritmo Backpropagation**: É um algoritmo que calcula ∇E_in de forma eficiente.\r\n",
    "\r\n",
    "**Configurando uma Rede Neural**:\r\n",
    "- **Número de Camadas**: Uma ou duas camadas escondidas.\r\n",
    "- **Neurônios por Camada**: Uma camada escondida -> Há d + 1 pesos (arestas) para cada neurônio na camada escondida e para o neurônio da camada de saída.\r\n",
    "- **Tamanho do Lote (Batch Size)**: O tamanho do lote determina o número de exemplos usados para dar um passo na direção oposta ao gradiente. O algoritmo do Gradiente Descendente pode ser classificado segundo o tamanho do lote:\r\n",
    "    - **Estocástico** (batch size = 1)\r\n",
    "    - **Batch** (batch size = |DS|)\r\n",
    "    - **Mini-batch** (batch size = 1, |DS|)\r\n",
    "- **Taxa de Aprendizagem**\r\n",
    "- **Número de Épocas**: É de extrema importância que o algoritmo do gradiente descendente use todos os exemplos para andar na direção de maior decrescimento da função de erro. Quando ele passa por todos os exemplos, dizemos que ocorre uma época.\r\n",
    "\r\n",
    "A configuração da camada de saída da nossa rede neural, a princípio, vai ser 'Classificação binária', onde a Função de ativação é a Função logística e a Métrica de erro é a Entropiacruzada binária.\r\n",
    "a\r",
    "s\r\n",
    "– Função de ativaçãote.s.\r",
    "ivo..ma"
   ]
  },
  {
   "cell_type": "code",
   "execution_count": null,
   "id": "3f589feb-e6e2-432c-8e6a-1699d4db8d6f",
   "metadata": {},
   "outputs": [],
   "source": []
  },
  {
   "cell_type": "code",
   "execution_count": null,
   "id": "1bf335dc-9042-4cf8-834c-9766a9a9e894",
   "metadata": {},
   "outputs": [],
   "source": []
  },
  {
   "cell_type": "markdown",
   "id": "4e0764cd-9255-4522-a6b0-a30c48b7ed86",
   "metadata": {},
   "source": [
    "## Árvore de Decisão\n",
    "\n",
    "Percepção do Estado de Saúde + Doenças Crônicas + Utilização de Serviços + Cobertura de Plano de Saúde. <br>\n",
    "Podemos usar as colunas acima para **prever autoavaliação de saúde ou uso de serviços**."
   ]
  },
  {
   "cell_type": "code",
   "execution_count": null,
   "id": "024b2d6f-d7ef-4727-ae03-9922d9a845b5",
   "metadata": {},
   "outputs": [],
   "source": []
  },
  {
   "cell_type": "code",
   "execution_count": null,
   "id": "197601b5-a6dd-499a-8e63-366f5230b233",
   "metadata": {},
   "outputs": [],
   "source": []
  },
  {
   "cell_type": "markdown",
   "id": "ea2215ce-3dbe-4965-8a48-900389887c98",
   "metadata": {},
   "source": [
    "## SVM\n",
    "\n",
    "Estilo de Vida (Álcool, Tabagismo - não coloquei no df_filtered) + Acidentes + Violências. <br>\n",
    "Podemos usar as colunas acima para **prever acidentes de trânsito ou violência** (classificação)."
   ]
  },
  {
   "cell_type": "code",
   "execution_count": null,
   "id": "031a8554-3132-4b2f-adda-47cda6614988",
   "metadata": {},
   "outputs": [],
   "source": []
  },
  {
   "cell_type": "code",
   "execution_count": null,
   "id": "f9fa2816-29ae-4ca8-8278-aab6364ab0bc",
   "metadata": {},
   "outputs": [],
   "source": []
  }
 ],
 "metadata": {
  "kernelspec": {
   "display_name": "Python 3 (ipykernel)",
   "language": "python",
   "name": "python3"
  },
  "language_info": {
   "codemirror_mode": {
    "name": "ipython",
    "version": 3
   },
   "file_extension": ".py",
   "mimetype": "text/x-python",
   "name": "python",
   "nbconvert_exporter": "python",
   "pygments_lexer": "ipython3",
   "version": "3.11.7"
  }
 },
 "nbformat": 4,
 "nbformat_minor": 5
}
